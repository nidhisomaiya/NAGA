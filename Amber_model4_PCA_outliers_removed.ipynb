{
 "cells": [
  {
   "cell_type": "markdown",
   "metadata": {},
   "source": [
    "# Model 4: PCA, outliers removed\n",
    "\n",
    "Instead of selecting features by hand based on the coefficients with diagnosis in the correlation matrix, this model (logistic regression) will use PCA to reduce the feature space.\n",
    "\n",
    "I will first remove outliers in the dataset to see what effect this has on the model (compared to model 3 which used PCA but left the outliers in).\n",
    "\n",
    "Need to first create a subset of data_plus_encoded_diagnosis with the outliers removed before running the model."
   ]
  },
  {
   "cell_type": "code",
   "execution_count": 1,
   "metadata": {},
   "outputs": [],
   "source": [
    "# load in the relevant libraries\n",
    "import pandas as pd\n",
    "import numpy as np\n",
    "import os\n",
    "import matplotlib.pyplot as plt\n",
    "import seaborn as sns"
   ]
  },
  {
   "cell_type": "code",
   "execution_count": 2,
   "metadata": {},
   "outputs": [],
   "source": [
    "# load in the csv file\n",
    "data_all_features = pd.read_csv(\"C:/Users/alsaw/OneDrive/Documents/2019-20 post India/Coding/CFG - python/Final Project/Team2_final_project/Data/Interim/data_with_encoded_diagnosis.csv\")"
   ]
  },
  {
   "cell_type": "code",
   "execution_count": 3,
   "metadata": {},
   "outputs": [
    {
     "data": {
      "text/html": [
       "<div>\n",
       "<style scoped>\n",
       "    .dataframe tbody tr th:only-of-type {\n",
       "        vertical-align: middle;\n",
       "    }\n",
       "\n",
       "    .dataframe tbody tr th {\n",
       "        vertical-align: top;\n",
       "    }\n",
       "\n",
       "    .dataframe thead th {\n",
       "        text-align: right;\n",
       "    }\n",
       "</style>\n",
       "<table border=\"1\" class=\"dataframe\">\n",
       "  <thead>\n",
       "    <tr style=\"text-align: right;\">\n",
       "      <th></th>\n",
       "      <th>Unnamed: 0</th>\n",
       "      <th>id</th>\n",
       "      <th>radius_mean</th>\n",
       "      <th>texture_mean</th>\n",
       "      <th>perimeter_mean</th>\n",
       "      <th>area_mean</th>\n",
       "      <th>smoothness_mean</th>\n",
       "      <th>compactness_mean</th>\n",
       "      <th>concavity_mean</th>\n",
       "      <th>concave points_mean</th>\n",
       "      <th>...</th>\n",
       "      <th>texture_worst</th>\n",
       "      <th>perimeter_worst</th>\n",
       "      <th>area_worst</th>\n",
       "      <th>smoothness_worst</th>\n",
       "      <th>compactness_worst</th>\n",
       "      <th>concavity_worst</th>\n",
       "      <th>concave points_worst</th>\n",
       "      <th>symmetry_worst</th>\n",
       "      <th>fractal_dimension_worst</th>\n",
       "      <th>one_hot_diagnosis</th>\n",
       "    </tr>\n",
       "  </thead>\n",
       "  <tbody>\n",
       "    <tr>\n",
       "      <td>0</td>\n",
       "      <td>0</td>\n",
       "      <td>842302</td>\n",
       "      <td>17.99</td>\n",
       "      <td>10.38</td>\n",
       "      <td>122.80</td>\n",
       "      <td>1001.0</td>\n",
       "      <td>0.11840</td>\n",
       "      <td>0.27760</td>\n",
       "      <td>0.3001</td>\n",
       "      <td>0.14710</td>\n",
       "      <td>...</td>\n",
       "      <td>17.33</td>\n",
       "      <td>184.60</td>\n",
       "      <td>2019.0</td>\n",
       "      <td>0.1622</td>\n",
       "      <td>0.6656</td>\n",
       "      <td>0.7119</td>\n",
       "      <td>0.2654</td>\n",
       "      <td>0.4601</td>\n",
       "      <td>0.11890</td>\n",
       "      <td>1</td>\n",
       "    </tr>\n",
       "    <tr>\n",
       "      <td>1</td>\n",
       "      <td>1</td>\n",
       "      <td>842517</td>\n",
       "      <td>20.57</td>\n",
       "      <td>17.77</td>\n",
       "      <td>132.90</td>\n",
       "      <td>1326.0</td>\n",
       "      <td>0.08474</td>\n",
       "      <td>0.07864</td>\n",
       "      <td>0.0869</td>\n",
       "      <td>0.07017</td>\n",
       "      <td>...</td>\n",
       "      <td>23.41</td>\n",
       "      <td>158.80</td>\n",
       "      <td>1956.0</td>\n",
       "      <td>0.1238</td>\n",
       "      <td>0.1866</td>\n",
       "      <td>0.2416</td>\n",
       "      <td>0.1860</td>\n",
       "      <td>0.2750</td>\n",
       "      <td>0.08902</td>\n",
       "      <td>1</td>\n",
       "    </tr>\n",
       "    <tr>\n",
       "      <td>2</td>\n",
       "      <td>2</td>\n",
       "      <td>84300903</td>\n",
       "      <td>19.69</td>\n",
       "      <td>21.25</td>\n",
       "      <td>130.00</td>\n",
       "      <td>1203.0</td>\n",
       "      <td>0.10960</td>\n",
       "      <td>0.15990</td>\n",
       "      <td>0.1974</td>\n",
       "      <td>0.12790</td>\n",
       "      <td>...</td>\n",
       "      <td>25.53</td>\n",
       "      <td>152.50</td>\n",
       "      <td>1709.0</td>\n",
       "      <td>0.1444</td>\n",
       "      <td>0.4245</td>\n",
       "      <td>0.4504</td>\n",
       "      <td>0.2430</td>\n",
       "      <td>0.3613</td>\n",
       "      <td>0.08758</td>\n",
       "      <td>1</td>\n",
       "    </tr>\n",
       "    <tr>\n",
       "      <td>3</td>\n",
       "      <td>3</td>\n",
       "      <td>84348301</td>\n",
       "      <td>11.42</td>\n",
       "      <td>20.38</td>\n",
       "      <td>77.58</td>\n",
       "      <td>386.1</td>\n",
       "      <td>0.14250</td>\n",
       "      <td>0.28390</td>\n",
       "      <td>0.2414</td>\n",
       "      <td>0.10520</td>\n",
       "      <td>...</td>\n",
       "      <td>26.50</td>\n",
       "      <td>98.87</td>\n",
       "      <td>567.7</td>\n",
       "      <td>0.2098</td>\n",
       "      <td>0.8663</td>\n",
       "      <td>0.6869</td>\n",
       "      <td>0.2575</td>\n",
       "      <td>0.6638</td>\n",
       "      <td>0.17300</td>\n",
       "      <td>1</td>\n",
       "    </tr>\n",
       "    <tr>\n",
       "      <td>4</td>\n",
       "      <td>4</td>\n",
       "      <td>84358402</td>\n",
       "      <td>20.29</td>\n",
       "      <td>14.34</td>\n",
       "      <td>135.10</td>\n",
       "      <td>1297.0</td>\n",
       "      <td>0.10030</td>\n",
       "      <td>0.13280</td>\n",
       "      <td>0.1980</td>\n",
       "      <td>0.10430</td>\n",
       "      <td>...</td>\n",
       "      <td>16.67</td>\n",
       "      <td>152.20</td>\n",
       "      <td>1575.0</td>\n",
       "      <td>0.1374</td>\n",
       "      <td>0.2050</td>\n",
       "      <td>0.4000</td>\n",
       "      <td>0.1625</td>\n",
       "      <td>0.2364</td>\n",
       "      <td>0.07678</td>\n",
       "      <td>1</td>\n",
       "    </tr>\n",
       "  </tbody>\n",
       "</table>\n",
       "<p>5 rows × 33 columns</p>\n",
       "</div>"
      ],
      "text/plain": [
       "   Unnamed: 0        id  radius_mean  texture_mean  perimeter_mean  area_mean  \\\n",
       "0           0    842302        17.99         10.38          122.80     1001.0   \n",
       "1           1    842517        20.57         17.77          132.90     1326.0   \n",
       "2           2  84300903        19.69         21.25          130.00     1203.0   \n",
       "3           3  84348301        11.42         20.38           77.58      386.1   \n",
       "4           4  84358402        20.29         14.34          135.10     1297.0   \n",
       "\n",
       "   smoothness_mean  compactness_mean  concavity_mean  concave points_mean  \\\n",
       "0          0.11840           0.27760          0.3001              0.14710   \n",
       "1          0.08474           0.07864          0.0869              0.07017   \n",
       "2          0.10960           0.15990          0.1974              0.12790   \n",
       "3          0.14250           0.28390          0.2414              0.10520   \n",
       "4          0.10030           0.13280          0.1980              0.10430   \n",
       "\n",
       "   ...  texture_worst  perimeter_worst  area_worst  smoothness_worst  \\\n",
       "0  ...          17.33           184.60      2019.0            0.1622   \n",
       "1  ...          23.41           158.80      1956.0            0.1238   \n",
       "2  ...          25.53           152.50      1709.0            0.1444   \n",
       "3  ...          26.50            98.87       567.7            0.2098   \n",
       "4  ...          16.67           152.20      1575.0            0.1374   \n",
       "\n",
       "   compactness_worst  concavity_worst  concave points_worst  symmetry_worst  \\\n",
       "0             0.6656           0.7119                0.2654          0.4601   \n",
       "1             0.1866           0.2416                0.1860          0.2750   \n",
       "2             0.4245           0.4504                0.2430          0.3613   \n",
       "3             0.8663           0.6869                0.2575          0.6638   \n",
       "4             0.2050           0.4000                0.1625          0.2364   \n",
       "\n",
       "   fractal_dimension_worst  one_hot_diagnosis  \n",
       "0                  0.11890                  1  \n",
       "1                  0.08902                  1  \n",
       "2                  0.08758                  1  \n",
       "3                  0.17300                  1  \n",
       "4                  0.07678                  1  \n",
       "\n",
       "[5 rows x 33 columns]"
      ]
     },
     "execution_count": 3,
     "metadata": {},
     "output_type": "execute_result"
    }
   ],
   "source": [
    "data_all_features.head()"
   ]
  },
  {
   "cell_type": "code",
   "execution_count": 4,
   "metadata": {},
   "outputs": [
    {
     "data": {
      "text/html": [
       "<div>\n",
       "<style scoped>\n",
       "    .dataframe tbody tr th:only-of-type {\n",
       "        vertical-align: middle;\n",
       "    }\n",
       "\n",
       "    .dataframe tbody tr th {\n",
       "        vertical-align: top;\n",
       "    }\n",
       "\n",
       "    .dataframe thead th {\n",
       "        text-align: right;\n",
       "    }\n",
       "</style>\n",
       "<table border=\"1\" class=\"dataframe\">\n",
       "  <thead>\n",
       "    <tr style=\"text-align: right;\">\n",
       "      <th></th>\n",
       "      <th>radius_mean</th>\n",
       "      <th>texture_mean</th>\n",
       "      <th>perimeter_mean</th>\n",
       "      <th>area_mean</th>\n",
       "      <th>smoothness_mean</th>\n",
       "      <th>compactness_mean</th>\n",
       "      <th>concavity_mean</th>\n",
       "      <th>concave points_mean</th>\n",
       "      <th>symmetry_mean</th>\n",
       "      <th>fractal_dimension_mean</th>\n",
       "      <th>...</th>\n",
       "      <th>texture_worst</th>\n",
       "      <th>perimeter_worst</th>\n",
       "      <th>area_worst</th>\n",
       "      <th>smoothness_worst</th>\n",
       "      <th>compactness_worst</th>\n",
       "      <th>concavity_worst</th>\n",
       "      <th>concave points_worst</th>\n",
       "      <th>symmetry_worst</th>\n",
       "      <th>fractal_dimension_worst</th>\n",
       "      <th>one_hot_diagnosis</th>\n",
       "    </tr>\n",
       "  </thead>\n",
       "  <tbody>\n",
       "    <tr>\n",
       "      <td>0</td>\n",
       "      <td>17.99</td>\n",
       "      <td>10.38</td>\n",
       "      <td>122.80</td>\n",
       "      <td>1001.0</td>\n",
       "      <td>0.11840</td>\n",
       "      <td>0.27760</td>\n",
       "      <td>0.3001</td>\n",
       "      <td>0.14710</td>\n",
       "      <td>0.2419</td>\n",
       "      <td>0.07871</td>\n",
       "      <td>...</td>\n",
       "      <td>17.33</td>\n",
       "      <td>184.60</td>\n",
       "      <td>2019.0</td>\n",
       "      <td>0.1622</td>\n",
       "      <td>0.6656</td>\n",
       "      <td>0.7119</td>\n",
       "      <td>0.2654</td>\n",
       "      <td>0.4601</td>\n",
       "      <td>0.11890</td>\n",
       "      <td>1</td>\n",
       "    </tr>\n",
       "    <tr>\n",
       "      <td>1</td>\n",
       "      <td>20.57</td>\n",
       "      <td>17.77</td>\n",
       "      <td>132.90</td>\n",
       "      <td>1326.0</td>\n",
       "      <td>0.08474</td>\n",
       "      <td>0.07864</td>\n",
       "      <td>0.0869</td>\n",
       "      <td>0.07017</td>\n",
       "      <td>0.1812</td>\n",
       "      <td>0.05667</td>\n",
       "      <td>...</td>\n",
       "      <td>23.41</td>\n",
       "      <td>158.80</td>\n",
       "      <td>1956.0</td>\n",
       "      <td>0.1238</td>\n",
       "      <td>0.1866</td>\n",
       "      <td>0.2416</td>\n",
       "      <td>0.1860</td>\n",
       "      <td>0.2750</td>\n",
       "      <td>0.08902</td>\n",
       "      <td>1</td>\n",
       "    </tr>\n",
       "    <tr>\n",
       "      <td>2</td>\n",
       "      <td>19.69</td>\n",
       "      <td>21.25</td>\n",
       "      <td>130.00</td>\n",
       "      <td>1203.0</td>\n",
       "      <td>0.10960</td>\n",
       "      <td>0.15990</td>\n",
       "      <td>0.1974</td>\n",
       "      <td>0.12790</td>\n",
       "      <td>0.2069</td>\n",
       "      <td>0.05999</td>\n",
       "      <td>...</td>\n",
       "      <td>25.53</td>\n",
       "      <td>152.50</td>\n",
       "      <td>1709.0</td>\n",
       "      <td>0.1444</td>\n",
       "      <td>0.4245</td>\n",
       "      <td>0.4504</td>\n",
       "      <td>0.2430</td>\n",
       "      <td>0.3613</td>\n",
       "      <td>0.08758</td>\n",
       "      <td>1</td>\n",
       "    </tr>\n",
       "    <tr>\n",
       "      <td>3</td>\n",
       "      <td>11.42</td>\n",
       "      <td>20.38</td>\n",
       "      <td>77.58</td>\n",
       "      <td>386.1</td>\n",
       "      <td>0.14250</td>\n",
       "      <td>0.28390</td>\n",
       "      <td>0.2414</td>\n",
       "      <td>0.10520</td>\n",
       "      <td>0.2597</td>\n",
       "      <td>0.09744</td>\n",
       "      <td>...</td>\n",
       "      <td>26.50</td>\n",
       "      <td>98.87</td>\n",
       "      <td>567.7</td>\n",
       "      <td>0.2098</td>\n",
       "      <td>0.8663</td>\n",
       "      <td>0.6869</td>\n",
       "      <td>0.2575</td>\n",
       "      <td>0.6638</td>\n",
       "      <td>0.17300</td>\n",
       "      <td>1</td>\n",
       "    </tr>\n",
       "    <tr>\n",
       "      <td>4</td>\n",
       "      <td>20.29</td>\n",
       "      <td>14.34</td>\n",
       "      <td>135.10</td>\n",
       "      <td>1297.0</td>\n",
       "      <td>0.10030</td>\n",
       "      <td>0.13280</td>\n",
       "      <td>0.1980</td>\n",
       "      <td>0.10430</td>\n",
       "      <td>0.1809</td>\n",
       "      <td>0.05883</td>\n",
       "      <td>...</td>\n",
       "      <td>16.67</td>\n",
       "      <td>152.20</td>\n",
       "      <td>1575.0</td>\n",
       "      <td>0.1374</td>\n",
       "      <td>0.2050</td>\n",
       "      <td>0.4000</td>\n",
       "      <td>0.1625</td>\n",
       "      <td>0.2364</td>\n",
       "      <td>0.07678</td>\n",
       "      <td>1</td>\n",
       "    </tr>\n",
       "  </tbody>\n",
       "</table>\n",
       "<p>5 rows × 31 columns</p>\n",
       "</div>"
      ],
      "text/plain": [
       "   radius_mean  texture_mean  perimeter_mean  area_mean  smoothness_mean  \\\n",
       "0        17.99         10.38          122.80     1001.0          0.11840   \n",
       "1        20.57         17.77          132.90     1326.0          0.08474   \n",
       "2        19.69         21.25          130.00     1203.0          0.10960   \n",
       "3        11.42         20.38           77.58      386.1          0.14250   \n",
       "4        20.29         14.34          135.10     1297.0          0.10030   \n",
       "\n",
       "   compactness_mean  concavity_mean  concave points_mean  symmetry_mean  \\\n",
       "0           0.27760          0.3001              0.14710         0.2419   \n",
       "1           0.07864          0.0869              0.07017         0.1812   \n",
       "2           0.15990          0.1974              0.12790         0.2069   \n",
       "3           0.28390          0.2414              0.10520         0.2597   \n",
       "4           0.13280          0.1980              0.10430         0.1809   \n",
       "\n",
       "   fractal_dimension_mean  ...  texture_worst  perimeter_worst  area_worst  \\\n",
       "0                 0.07871  ...          17.33           184.60      2019.0   \n",
       "1                 0.05667  ...          23.41           158.80      1956.0   \n",
       "2                 0.05999  ...          25.53           152.50      1709.0   \n",
       "3                 0.09744  ...          26.50            98.87       567.7   \n",
       "4                 0.05883  ...          16.67           152.20      1575.0   \n",
       "\n",
       "   smoothness_worst  compactness_worst  concavity_worst  concave points_worst  \\\n",
       "0            0.1622             0.6656           0.7119                0.2654   \n",
       "1            0.1238             0.1866           0.2416                0.1860   \n",
       "2            0.1444             0.4245           0.4504                0.2430   \n",
       "3            0.2098             0.8663           0.6869                0.2575   \n",
       "4            0.1374             0.2050           0.4000                0.1625   \n",
       "\n",
       "   symmetry_worst  fractal_dimension_worst  one_hot_diagnosis  \n",
       "0          0.4601                  0.11890                  1  \n",
       "1          0.2750                  0.08902                  1  \n",
       "2          0.3613                  0.08758                  1  \n",
       "3          0.6638                  0.17300                  1  \n",
       "4          0.2364                  0.07678                  1  \n",
       "\n",
       "[5 rows x 31 columns]"
      ]
     },
     "execution_count": 4,
     "metadata": {},
     "output_type": "execute_result"
    }
   ],
   "source": [
    "# removing Unnamed: 0 and id\n",
    "data_all_features = data_all_features.drop(\"Unnamed: 0\", axis=1)\n",
    "data_all_features = data_all_features.drop(\"id\", axis=1)\n",
    "data_all_features.head()"
   ]
  },
  {
   "cell_type": "markdown",
   "metadata": {},
   "source": [
    "### Now to remove outliers"
   ]
  },
  {
   "cell_type": "code",
   "execution_count": 5,
   "metadata": {},
   "outputs": [
    {
     "name": "stdout",
     "output_type": "stream",
     "text": [
      "radius_mean                  4.080000\n",
      "texture_mean                 5.630000\n",
      "perimeter_mean              28.930000\n",
      "area_mean                  362.400000\n",
      "smoothness_mean              0.018930\n",
      "compactness_mean             0.065480\n",
      "concavity_mean               0.101140\n",
      "concave points_mean          0.053690\n",
      "symmetry_mean                0.033800\n",
      "fractal_dimension_mean       0.008420\n",
      "radius_se                    0.246500\n",
      "texture_se                   0.640100\n",
      "perimeter_se                 1.751000\n",
      "area_se                     27.340000\n",
      "smoothness_se                0.002977\n",
      "compactness_se               0.019370\n",
      "concavity_se                 0.026960\n",
      "concave points_se            0.007072\n",
      "symmetry_se                  0.008320\n",
      "fractal_dimension_se         0.002310\n",
      "radius_worst                 5.780000\n",
      "texture_worst                8.640000\n",
      "perimeter_worst             41.290000\n",
      "area_worst                 568.700000\n",
      "smoothness_worst             0.029400\n",
      "compactness_worst            0.191900\n",
      "concavity_worst              0.268400\n",
      "concave points_worst         0.096470\n",
      "symmetry_worst               0.067500\n",
      "fractal_dimension_worst      0.020620\n",
      "one_hot_diagnosis            1.000000\n",
      "dtype: float64\n"
     ]
    }
   ],
   "source": [
    "# identifying outliers using IQR\n",
    "Q1 = data_all_features.quantile(0.25)\n",
    "Q3 = data_all_features.quantile(0.75)\n",
    "IQR = Q3 - Q1\n",
    "print(IQR)"
   ]
  },
  {
   "cell_type": "code",
   "execution_count": 6,
   "metadata": {},
   "outputs": [
    {
     "data": {
      "text/html": [
       "<div>\n",
       "<style scoped>\n",
       "    .dataframe tbody tr th:only-of-type {\n",
       "        vertical-align: middle;\n",
       "    }\n",
       "\n",
       "    .dataframe tbody tr th {\n",
       "        vertical-align: top;\n",
       "    }\n",
       "\n",
       "    .dataframe thead th {\n",
       "        text-align: right;\n",
       "    }\n",
       "</style>\n",
       "<table border=\"1\" class=\"dataframe\">\n",
       "  <thead>\n",
       "    <tr style=\"text-align: right;\">\n",
       "      <th></th>\n",
       "      <th>radius_mean</th>\n",
       "      <th>texture_mean</th>\n",
       "      <th>perimeter_mean</th>\n",
       "      <th>area_mean</th>\n",
       "      <th>smoothness_mean</th>\n",
       "      <th>compactness_mean</th>\n",
       "      <th>concavity_mean</th>\n",
       "      <th>concave points_mean</th>\n",
       "      <th>symmetry_mean</th>\n",
       "      <th>fractal_dimension_mean</th>\n",
       "      <th>...</th>\n",
       "      <th>texture_worst</th>\n",
       "      <th>perimeter_worst</th>\n",
       "      <th>area_worst</th>\n",
       "      <th>smoothness_worst</th>\n",
       "      <th>compactness_worst</th>\n",
       "      <th>concavity_worst</th>\n",
       "      <th>concave points_worst</th>\n",
       "      <th>symmetry_worst</th>\n",
       "      <th>fractal_dimension_worst</th>\n",
       "      <th>one_hot_diagnosis</th>\n",
       "    </tr>\n",
       "  </thead>\n",
       "  <tbody>\n",
       "    <tr>\n",
       "      <td>0</td>\n",
       "      <td>False</td>\n",
       "      <td>False</td>\n",
       "      <td>False</td>\n",
       "      <td>False</td>\n",
       "      <td>False</td>\n",
       "      <td>True</td>\n",
       "      <td>True</td>\n",
       "      <td>False</td>\n",
       "      <td>False</td>\n",
       "      <td>False</td>\n",
       "      <td>...</td>\n",
       "      <td>False</td>\n",
       "      <td>False</td>\n",
       "      <td>True</td>\n",
       "      <td>False</td>\n",
       "      <td>True</td>\n",
       "      <td>False</td>\n",
       "      <td>False</td>\n",
       "      <td>True</td>\n",
       "      <td>False</td>\n",
       "      <td>False</td>\n",
       "    </tr>\n",
       "    <tr>\n",
       "      <td>1</td>\n",
       "      <td>False</td>\n",
       "      <td>False</td>\n",
       "      <td>False</td>\n",
       "      <td>False</td>\n",
       "      <td>False</td>\n",
       "      <td>False</td>\n",
       "      <td>False</td>\n",
       "      <td>False</td>\n",
       "      <td>False</td>\n",
       "      <td>False</td>\n",
       "      <td>...</td>\n",
       "      <td>False</td>\n",
       "      <td>False</td>\n",
       "      <td>True</td>\n",
       "      <td>False</td>\n",
       "      <td>False</td>\n",
       "      <td>False</td>\n",
       "      <td>False</td>\n",
       "      <td>False</td>\n",
       "      <td>False</td>\n",
       "      <td>False</td>\n",
       "    </tr>\n",
       "    <tr>\n",
       "      <td>2</td>\n",
       "      <td>False</td>\n",
       "      <td>False</td>\n",
       "      <td>False</td>\n",
       "      <td>False</td>\n",
       "      <td>False</td>\n",
       "      <td>False</td>\n",
       "      <td>False</td>\n",
       "      <td>False</td>\n",
       "      <td>False</td>\n",
       "      <td>False</td>\n",
       "      <td>...</td>\n",
       "      <td>False</td>\n",
       "      <td>False</td>\n",
       "      <td>False</td>\n",
       "      <td>False</td>\n",
       "      <td>False</td>\n",
       "      <td>False</td>\n",
       "      <td>False</td>\n",
       "      <td>False</td>\n",
       "      <td>False</td>\n",
       "      <td>False</td>\n",
       "    </tr>\n",
       "    <tr>\n",
       "      <td>3</td>\n",
       "      <td>False</td>\n",
       "      <td>False</td>\n",
       "      <td>False</td>\n",
       "      <td>False</td>\n",
       "      <td>True</td>\n",
       "      <td>True</td>\n",
       "      <td>False</td>\n",
       "      <td>False</td>\n",
       "      <td>True</td>\n",
       "      <td>True</td>\n",
       "      <td>...</td>\n",
       "      <td>False</td>\n",
       "      <td>False</td>\n",
       "      <td>False</td>\n",
       "      <td>True</td>\n",
       "      <td>True</td>\n",
       "      <td>False</td>\n",
       "      <td>False</td>\n",
       "      <td>True</td>\n",
       "      <td>True</td>\n",
       "      <td>False</td>\n",
       "    </tr>\n",
       "    <tr>\n",
       "      <td>4</td>\n",
       "      <td>False</td>\n",
       "      <td>False</td>\n",
       "      <td>False</td>\n",
       "      <td>False</td>\n",
       "      <td>False</td>\n",
       "      <td>False</td>\n",
       "      <td>False</td>\n",
       "      <td>False</td>\n",
       "      <td>False</td>\n",
       "      <td>False</td>\n",
       "      <td>...</td>\n",
       "      <td>False</td>\n",
       "      <td>False</td>\n",
       "      <td>False</td>\n",
       "      <td>False</td>\n",
       "      <td>False</td>\n",
       "      <td>False</td>\n",
       "      <td>False</td>\n",
       "      <td>False</td>\n",
       "      <td>False</td>\n",
       "      <td>False</td>\n",
       "    </tr>\n",
       "  </tbody>\n",
       "</table>\n",
       "<p>5 rows × 31 columns</p>\n",
       "</div>"
      ],
      "text/plain": [
       "   radius_mean  texture_mean  perimeter_mean  area_mean  smoothness_mean  \\\n",
       "0        False         False           False      False            False   \n",
       "1        False         False           False      False            False   \n",
       "2        False         False           False      False            False   \n",
       "3        False         False           False      False             True   \n",
       "4        False         False           False      False            False   \n",
       "\n",
       "   compactness_mean  concavity_mean  concave points_mean  symmetry_mean  \\\n",
       "0              True            True                False          False   \n",
       "1             False           False                False          False   \n",
       "2             False           False                False          False   \n",
       "3              True           False                False           True   \n",
       "4             False           False                False          False   \n",
       "\n",
       "   fractal_dimension_mean  ...  texture_worst  perimeter_worst  area_worst  \\\n",
       "0                   False  ...          False            False        True   \n",
       "1                   False  ...          False            False        True   \n",
       "2                   False  ...          False            False       False   \n",
       "3                    True  ...          False            False       False   \n",
       "4                   False  ...          False            False       False   \n",
       "\n",
       "   smoothness_worst  compactness_worst  concavity_worst  concave points_worst  \\\n",
       "0             False               True            False                 False   \n",
       "1             False              False            False                 False   \n",
       "2             False              False            False                 False   \n",
       "3              True               True            False                 False   \n",
       "4             False              False            False                 False   \n",
       "\n",
       "   symmetry_worst  fractal_dimension_worst  one_hot_diagnosis  \n",
       "0            True                    False              False  \n",
       "1           False                    False              False  \n",
       "2           False                    False              False  \n",
       "3            True                     True              False  \n",
       "4           False                    False              False  \n",
       "\n",
       "[5 rows x 31 columns]"
      ]
     },
     "execution_count": 6,
     "metadata": {},
     "output_type": "execute_result"
    }
   ],
   "source": [
    "# visualising outliers\n",
    "visualise = (data_all_features < (Q1 - 1.5 * IQR)) |(data_all_features > (Q3 + 1.5 * IQR))\n",
    "visualise.head()"
   ]
  },
  {
   "cell_type": "code",
   "execution_count": 7,
   "metadata": {},
   "outputs": [
    {
     "data": {
      "text/plain": [
       "radius_mean                14\n",
       "texture_mean                7\n",
       "perimeter_mean             13\n",
       "area_mean                  25\n",
       "smoothness_mean             6\n",
       "compactness_mean           16\n",
       "concavity_mean             18\n",
       "concave points_mean        10\n",
       "symmetry_mean              15\n",
       "fractal_dimension_mean     15\n",
       "radius_se                  38\n",
       "texture_se                 20\n",
       "perimeter_se               38\n",
       "area_se                    65\n",
       "smoothness_se              30\n",
       "compactness_se             28\n",
       "concavity_se               22\n",
       "concave points_se          19\n",
       "symmetry_se                27\n",
       "fractal_dimension_se       28\n",
       "radius_worst               17\n",
       "texture_worst               5\n",
       "perimeter_worst            15\n",
       "area_worst                 35\n",
       "smoothness_worst            7\n",
       "compactness_worst          16\n",
       "concavity_worst            12\n",
       "concave points_worst        0\n",
       "symmetry_worst             23\n",
       "fractal_dimension_worst    24\n",
       "one_hot_diagnosis           0\n",
       "dtype: int64"
      ]
     },
     "execution_count": 7,
     "metadata": {},
     "output_type": "execute_result"
    }
   ],
   "source": [
    "# counting outliers: False = true value and True = outlier\n",
    "visualise[visualise == True].count()"
   ]
  },
  {
   "cell_type": "markdown",
   "metadata": {},
   "source": [
    "Can see we have quite a few outliers for each column, but some of these records might overlap (so might not be as many as it looks)."
   ]
  },
  {
   "cell_type": "code",
   "execution_count": 8,
   "metadata": {},
   "outputs": [],
   "source": [
    "# creating a subset of the data without outliers\n",
    "all_features_outliers_removed = data_all_features[~((data_all_features < (Q1 - 1.5 * IQR)) |(data_all_features > (Q3 + 1.5 * IQR))).any(axis=1)]"
   ]
  },
  {
   "cell_type": "code",
   "execution_count": 9,
   "metadata": {},
   "outputs": [
    {
     "data": {
      "text/plain": [
       "(398, 31)"
      ]
     },
     "execution_count": 9,
     "metadata": {},
     "output_type": "execute_result"
    }
   ],
   "source": [
    "all_features_outliers_removed.shape"
   ]
  },
  {
   "cell_type": "code",
   "execution_count": 10,
   "metadata": {},
   "outputs": [
    {
     "data": {
      "text/html": [
       "<div>\n",
       "<style scoped>\n",
       "    .dataframe tbody tr th:only-of-type {\n",
       "        vertical-align: middle;\n",
       "    }\n",
       "\n",
       "    .dataframe tbody tr th {\n",
       "        vertical-align: top;\n",
       "    }\n",
       "\n",
       "    .dataframe thead th {\n",
       "        text-align: right;\n",
       "    }\n",
       "</style>\n",
       "<table border=\"1\" class=\"dataframe\">\n",
       "  <thead>\n",
       "    <tr style=\"text-align: right;\">\n",
       "      <th></th>\n",
       "      <th>radius_mean</th>\n",
       "      <th>texture_mean</th>\n",
       "      <th>perimeter_mean</th>\n",
       "      <th>area_mean</th>\n",
       "      <th>smoothness_mean</th>\n",
       "      <th>compactness_mean</th>\n",
       "      <th>concavity_mean</th>\n",
       "      <th>concave points_mean</th>\n",
       "      <th>symmetry_mean</th>\n",
       "      <th>fractal_dimension_mean</th>\n",
       "      <th>...</th>\n",
       "      <th>texture_worst</th>\n",
       "      <th>perimeter_worst</th>\n",
       "      <th>area_worst</th>\n",
       "      <th>smoothness_worst</th>\n",
       "      <th>compactness_worst</th>\n",
       "      <th>concavity_worst</th>\n",
       "      <th>concave points_worst</th>\n",
       "      <th>symmetry_worst</th>\n",
       "      <th>fractal_dimension_worst</th>\n",
       "      <th>one_hot_diagnosis</th>\n",
       "    </tr>\n",
       "  </thead>\n",
       "  <tbody>\n",
       "    <tr>\n",
       "      <td>6</td>\n",
       "      <td>18.25</td>\n",
       "      <td>19.98</td>\n",
       "      <td>119.6</td>\n",
       "      <td>1040.0</td>\n",
       "      <td>0.09463</td>\n",
       "      <td>0.10900</td>\n",
       "      <td>0.11270</td>\n",
       "      <td>0.07400</td>\n",
       "      <td>0.1794</td>\n",
       "      <td>0.05742</td>\n",
       "      <td>...</td>\n",
       "      <td>27.66</td>\n",
       "      <td>153.2</td>\n",
       "      <td>1606.0</td>\n",
       "      <td>0.1442</td>\n",
       "      <td>0.2576</td>\n",
       "      <td>0.3784</td>\n",
       "      <td>0.19320</td>\n",
       "      <td>0.3063</td>\n",
       "      <td>0.08368</td>\n",
       "      <td>1</td>\n",
       "    </tr>\n",
       "    <tr>\n",
       "      <td>7</td>\n",
       "      <td>13.71</td>\n",
       "      <td>20.83</td>\n",
       "      <td>90.2</td>\n",
       "      <td>577.9</td>\n",
       "      <td>0.11890</td>\n",
       "      <td>0.16450</td>\n",
       "      <td>0.09366</td>\n",
       "      <td>0.05985</td>\n",
       "      <td>0.2196</td>\n",
       "      <td>0.07451</td>\n",
       "      <td>...</td>\n",
       "      <td>28.14</td>\n",
       "      <td>110.6</td>\n",
       "      <td>897.0</td>\n",
       "      <td>0.1654</td>\n",
       "      <td>0.3682</td>\n",
       "      <td>0.2678</td>\n",
       "      <td>0.15560</td>\n",
       "      <td>0.3196</td>\n",
       "      <td>0.11510</td>\n",
       "      <td>1</td>\n",
       "    </tr>\n",
       "    <tr>\n",
       "      <td>10</td>\n",
       "      <td>16.02</td>\n",
       "      <td>23.24</td>\n",
       "      <td>102.7</td>\n",
       "      <td>797.8</td>\n",
       "      <td>0.08206</td>\n",
       "      <td>0.06669</td>\n",
       "      <td>0.03299</td>\n",
       "      <td>0.03323</td>\n",
       "      <td>0.1528</td>\n",
       "      <td>0.05697</td>\n",
       "      <td>...</td>\n",
       "      <td>33.88</td>\n",
       "      <td>123.8</td>\n",
       "      <td>1150.0</td>\n",
       "      <td>0.1181</td>\n",
       "      <td>0.1551</td>\n",
       "      <td>0.1459</td>\n",
       "      <td>0.09975</td>\n",
       "      <td>0.2948</td>\n",
       "      <td>0.08452</td>\n",
       "      <td>1</td>\n",
       "    </tr>\n",
       "    <tr>\n",
       "      <td>11</td>\n",
       "      <td>15.78</td>\n",
       "      <td>17.89</td>\n",
       "      <td>103.6</td>\n",
       "      <td>781.0</td>\n",
       "      <td>0.09710</td>\n",
       "      <td>0.12920</td>\n",
       "      <td>0.09954</td>\n",
       "      <td>0.06606</td>\n",
       "      <td>0.1842</td>\n",
       "      <td>0.06082</td>\n",
       "      <td>...</td>\n",
       "      <td>27.28</td>\n",
       "      <td>136.5</td>\n",
       "      <td>1299.0</td>\n",
       "      <td>0.1396</td>\n",
       "      <td>0.5609</td>\n",
       "      <td>0.3965</td>\n",
       "      <td>0.18100</td>\n",
       "      <td>0.3792</td>\n",
       "      <td>0.10480</td>\n",
       "      <td>1</td>\n",
       "    </tr>\n",
       "    <tr>\n",
       "      <td>13</td>\n",
       "      <td>15.85</td>\n",
       "      <td>23.95</td>\n",
       "      <td>103.7</td>\n",
       "      <td>782.7</td>\n",
       "      <td>0.08401</td>\n",
       "      <td>0.10020</td>\n",
       "      <td>0.09938</td>\n",
       "      <td>0.05364</td>\n",
       "      <td>0.1847</td>\n",
       "      <td>0.05338</td>\n",
       "      <td>...</td>\n",
       "      <td>27.66</td>\n",
       "      <td>112.0</td>\n",
       "      <td>876.5</td>\n",
       "      <td>0.1131</td>\n",
       "      <td>0.1924</td>\n",
       "      <td>0.2322</td>\n",
       "      <td>0.11190</td>\n",
       "      <td>0.2809</td>\n",
       "      <td>0.06287</td>\n",
       "      <td>1</td>\n",
       "    </tr>\n",
       "  </tbody>\n",
       "</table>\n",
       "<p>5 rows × 31 columns</p>\n",
       "</div>"
      ],
      "text/plain": [
       "    radius_mean  texture_mean  perimeter_mean  area_mean  smoothness_mean  \\\n",
       "6         18.25         19.98           119.6     1040.0          0.09463   \n",
       "7         13.71         20.83            90.2      577.9          0.11890   \n",
       "10        16.02         23.24           102.7      797.8          0.08206   \n",
       "11        15.78         17.89           103.6      781.0          0.09710   \n",
       "13        15.85         23.95           103.7      782.7          0.08401   \n",
       "\n",
       "    compactness_mean  concavity_mean  concave points_mean  symmetry_mean  \\\n",
       "6            0.10900         0.11270              0.07400         0.1794   \n",
       "7            0.16450         0.09366              0.05985         0.2196   \n",
       "10           0.06669         0.03299              0.03323         0.1528   \n",
       "11           0.12920         0.09954              0.06606         0.1842   \n",
       "13           0.10020         0.09938              0.05364         0.1847   \n",
       "\n",
       "    fractal_dimension_mean  ...  texture_worst  perimeter_worst  area_worst  \\\n",
       "6                  0.05742  ...          27.66            153.2      1606.0   \n",
       "7                  0.07451  ...          28.14            110.6       897.0   \n",
       "10                 0.05697  ...          33.88            123.8      1150.0   \n",
       "11                 0.06082  ...          27.28            136.5      1299.0   \n",
       "13                 0.05338  ...          27.66            112.0       876.5   \n",
       "\n",
       "    smoothness_worst  compactness_worst  concavity_worst  \\\n",
       "6             0.1442             0.2576           0.3784   \n",
       "7             0.1654             0.3682           0.2678   \n",
       "10            0.1181             0.1551           0.1459   \n",
       "11            0.1396             0.5609           0.3965   \n",
       "13            0.1131             0.1924           0.2322   \n",
       "\n",
       "    concave points_worst  symmetry_worst  fractal_dimension_worst  \\\n",
       "6                0.19320          0.3063                  0.08368   \n",
       "7                0.15560          0.3196                  0.11510   \n",
       "10               0.09975          0.2948                  0.08452   \n",
       "11               0.18100          0.3792                  0.10480   \n",
       "13               0.11190          0.2809                  0.06287   \n",
       "\n",
       "    one_hot_diagnosis  \n",
       "6                   1  \n",
       "7                   1  \n",
       "10                  1  \n",
       "11                  1  \n",
       "13                  1  \n",
       "\n",
       "[5 rows x 31 columns]"
      ]
     },
     "execution_count": 10,
     "metadata": {},
     "output_type": "execute_result"
    }
   ],
   "source": [
    "all_features_outliers_removed.head()"
   ]
  },
  {
   "cell_type": "code",
   "execution_count": 11,
   "metadata": {},
   "outputs": [
    {
     "name": "stdout",
     "output_type": "stream",
     "text": [
      "<class 'pandas.core.frame.DataFrame'>\n",
      "Int64Index: 398 entries, 6 to 566\n",
      "Data columns (total 31 columns):\n",
      "radius_mean                398 non-null float64\n",
      "texture_mean               398 non-null float64\n",
      "perimeter_mean             398 non-null float64\n",
      "area_mean                  398 non-null float64\n",
      "smoothness_mean            398 non-null float64\n",
      "compactness_mean           398 non-null float64\n",
      "concavity_mean             398 non-null float64\n",
      "concave points_mean        398 non-null float64\n",
      "symmetry_mean              398 non-null float64\n",
      "fractal_dimension_mean     398 non-null float64\n",
      "radius_se                  398 non-null float64\n",
      "texture_se                 398 non-null float64\n",
      "perimeter_se               398 non-null float64\n",
      "area_se                    398 non-null float64\n",
      "smoothness_se              398 non-null float64\n",
      "compactness_se             398 non-null float64\n",
      "concavity_se               398 non-null float64\n",
      "concave points_se          398 non-null float64\n",
      "symmetry_se                398 non-null float64\n",
      "fractal_dimension_se       398 non-null float64\n",
      "radius_worst               398 non-null float64\n",
      "texture_worst              398 non-null float64\n",
      "perimeter_worst            398 non-null float64\n",
      "area_worst                 398 non-null float64\n",
      "smoothness_worst           398 non-null float64\n",
      "compactness_worst          398 non-null float64\n",
      "concavity_worst            398 non-null float64\n",
      "concave points_worst       398 non-null float64\n",
      "symmetry_worst             398 non-null float64\n",
      "fractal_dimension_worst    398 non-null float64\n",
      "one_hot_diagnosis          398 non-null int64\n",
      "dtypes: float64(30), int64(1)\n",
      "memory usage: 99.5 KB\n"
     ]
    }
   ],
   "source": [
    "all_features_outliers_removed.info()"
   ]
  },
  {
   "cell_type": "markdown",
   "metadata": {},
   "source": [
    "Looks like it has removed 171 records. That's a lot considering our dataset is small."
   ]
  },
  {
   "cell_type": "code",
   "execution_count": 12,
   "metadata": {},
   "outputs": [],
   "source": [
    "# save new subset of the data to csv\n",
    "all_features_outliers_removed.to_csv(\"C:/Users/alsaw/OneDrive/Documents/2019-20 post India/Coding/CFG - python/Final Project/Team2_final_project/Data/Interim/all_features_outliers_removed.csv\")"
   ]
  },
  {
   "cell_type": "code",
   "execution_count": 13,
   "metadata": {},
   "outputs": [
    {
     "data": {
      "text/plain": [
       "300"
      ]
     },
     "execution_count": 13,
     "metadata": {},
     "output_type": "execute_result"
    }
   ],
   "source": [
    "# count benign\n",
    "all_features_outliers_removed.loc[all_features_outliers_removed.one_hot_diagnosis == 0, \"one_hot_diagnosis\"].count()"
   ]
  },
  {
   "cell_type": "code",
   "execution_count": 14,
   "metadata": {},
   "outputs": [
    {
     "data": {
      "text/plain": [
       "98"
      ]
     },
     "execution_count": 14,
     "metadata": {},
     "output_type": "execute_result"
    }
   ],
   "source": [
    "# count malignant\n",
    "all_features_outliers_removed.loc[all_features_outliers_removed.one_hot_diagnosis == 1, \"one_hot_diagnosis\"].count()"
   ]
  },
  {
   "cell_type": "markdown",
   "metadata": {},
   "source": [
    "Removing the outliers has massively reduced the number of malignant records (114 been removed, more than half the original number). There is now a prominent class imbalance in the data, almost 3:1 (benign:malignant). This is likely to affect the predictive power of the model."
   ]
  },
  {
   "cell_type": "markdown",
   "metadata": {},
   "source": [
    "### Now to split the data"
   ]
  },
  {
   "cell_type": "code",
   "execution_count": 15,
   "metadata": {},
   "outputs": [],
   "source": [
    "# splitting the target from predictors\n",
    "\n",
    "# creating x data containing features only\n",
    "x_data = all_features_outliers_removed.drop(\"one_hot_diagnosis\", axis=1)\n",
    "# creating y data containing target only\n",
    "y_data = all_features_outliers_removed[\"one_hot_diagnosis\"]"
   ]
  },
  {
   "cell_type": "code",
   "execution_count": 16,
   "metadata": {},
   "outputs": [
    {
     "data": {
      "text/html": [
       "<div>\n",
       "<style scoped>\n",
       "    .dataframe tbody tr th:only-of-type {\n",
       "        vertical-align: middle;\n",
       "    }\n",
       "\n",
       "    .dataframe tbody tr th {\n",
       "        vertical-align: top;\n",
       "    }\n",
       "\n",
       "    .dataframe thead th {\n",
       "        text-align: right;\n",
       "    }\n",
       "</style>\n",
       "<table border=\"1\" class=\"dataframe\">\n",
       "  <thead>\n",
       "    <tr style=\"text-align: right;\">\n",
       "      <th></th>\n",
       "      <th>radius_mean</th>\n",
       "      <th>texture_mean</th>\n",
       "      <th>perimeter_mean</th>\n",
       "      <th>area_mean</th>\n",
       "      <th>smoothness_mean</th>\n",
       "      <th>compactness_mean</th>\n",
       "      <th>concavity_mean</th>\n",
       "      <th>concave points_mean</th>\n",
       "      <th>symmetry_mean</th>\n",
       "      <th>fractal_dimension_mean</th>\n",
       "      <th>...</th>\n",
       "      <th>radius_worst</th>\n",
       "      <th>texture_worst</th>\n",
       "      <th>perimeter_worst</th>\n",
       "      <th>area_worst</th>\n",
       "      <th>smoothness_worst</th>\n",
       "      <th>compactness_worst</th>\n",
       "      <th>concavity_worst</th>\n",
       "      <th>concave points_worst</th>\n",
       "      <th>symmetry_worst</th>\n",
       "      <th>fractal_dimension_worst</th>\n",
       "    </tr>\n",
       "  </thead>\n",
       "  <tbody>\n",
       "    <tr>\n",
       "      <td>6</td>\n",
       "      <td>18.25</td>\n",
       "      <td>19.98</td>\n",
       "      <td>119.6</td>\n",
       "      <td>1040.0</td>\n",
       "      <td>0.09463</td>\n",
       "      <td>0.10900</td>\n",
       "      <td>0.11270</td>\n",
       "      <td>0.07400</td>\n",
       "      <td>0.1794</td>\n",
       "      <td>0.05742</td>\n",
       "      <td>...</td>\n",
       "      <td>22.88</td>\n",
       "      <td>27.66</td>\n",
       "      <td>153.2</td>\n",
       "      <td>1606.0</td>\n",
       "      <td>0.1442</td>\n",
       "      <td>0.2576</td>\n",
       "      <td>0.3784</td>\n",
       "      <td>0.19320</td>\n",
       "      <td>0.3063</td>\n",
       "      <td>0.08368</td>\n",
       "    </tr>\n",
       "    <tr>\n",
       "      <td>7</td>\n",
       "      <td>13.71</td>\n",
       "      <td>20.83</td>\n",
       "      <td>90.2</td>\n",
       "      <td>577.9</td>\n",
       "      <td>0.11890</td>\n",
       "      <td>0.16450</td>\n",
       "      <td>0.09366</td>\n",
       "      <td>0.05985</td>\n",
       "      <td>0.2196</td>\n",
       "      <td>0.07451</td>\n",
       "      <td>...</td>\n",
       "      <td>17.06</td>\n",
       "      <td>28.14</td>\n",
       "      <td>110.6</td>\n",
       "      <td>897.0</td>\n",
       "      <td>0.1654</td>\n",
       "      <td>0.3682</td>\n",
       "      <td>0.2678</td>\n",
       "      <td>0.15560</td>\n",
       "      <td>0.3196</td>\n",
       "      <td>0.11510</td>\n",
       "    </tr>\n",
       "    <tr>\n",
       "      <td>10</td>\n",
       "      <td>16.02</td>\n",
       "      <td>23.24</td>\n",
       "      <td>102.7</td>\n",
       "      <td>797.8</td>\n",
       "      <td>0.08206</td>\n",
       "      <td>0.06669</td>\n",
       "      <td>0.03299</td>\n",
       "      <td>0.03323</td>\n",
       "      <td>0.1528</td>\n",
       "      <td>0.05697</td>\n",
       "      <td>...</td>\n",
       "      <td>19.19</td>\n",
       "      <td>33.88</td>\n",
       "      <td>123.8</td>\n",
       "      <td>1150.0</td>\n",
       "      <td>0.1181</td>\n",
       "      <td>0.1551</td>\n",
       "      <td>0.1459</td>\n",
       "      <td>0.09975</td>\n",
       "      <td>0.2948</td>\n",
       "      <td>0.08452</td>\n",
       "    </tr>\n",
       "    <tr>\n",
       "      <td>11</td>\n",
       "      <td>15.78</td>\n",
       "      <td>17.89</td>\n",
       "      <td>103.6</td>\n",
       "      <td>781.0</td>\n",
       "      <td>0.09710</td>\n",
       "      <td>0.12920</td>\n",
       "      <td>0.09954</td>\n",
       "      <td>0.06606</td>\n",
       "      <td>0.1842</td>\n",
       "      <td>0.06082</td>\n",
       "      <td>...</td>\n",
       "      <td>20.42</td>\n",
       "      <td>27.28</td>\n",
       "      <td>136.5</td>\n",
       "      <td>1299.0</td>\n",
       "      <td>0.1396</td>\n",
       "      <td>0.5609</td>\n",
       "      <td>0.3965</td>\n",
       "      <td>0.18100</td>\n",
       "      <td>0.3792</td>\n",
       "      <td>0.10480</td>\n",
       "    </tr>\n",
       "    <tr>\n",
       "      <td>13</td>\n",
       "      <td>15.85</td>\n",
       "      <td>23.95</td>\n",
       "      <td>103.7</td>\n",
       "      <td>782.7</td>\n",
       "      <td>0.08401</td>\n",
       "      <td>0.10020</td>\n",
       "      <td>0.09938</td>\n",
       "      <td>0.05364</td>\n",
       "      <td>0.1847</td>\n",
       "      <td>0.05338</td>\n",
       "      <td>...</td>\n",
       "      <td>16.84</td>\n",
       "      <td>27.66</td>\n",
       "      <td>112.0</td>\n",
       "      <td>876.5</td>\n",
       "      <td>0.1131</td>\n",
       "      <td>0.1924</td>\n",
       "      <td>0.2322</td>\n",
       "      <td>0.11190</td>\n",
       "      <td>0.2809</td>\n",
       "      <td>0.06287</td>\n",
       "    </tr>\n",
       "  </tbody>\n",
       "</table>\n",
       "<p>5 rows × 30 columns</p>\n",
       "</div>"
      ],
      "text/plain": [
       "    radius_mean  texture_mean  perimeter_mean  area_mean  smoothness_mean  \\\n",
       "6         18.25         19.98           119.6     1040.0          0.09463   \n",
       "7         13.71         20.83            90.2      577.9          0.11890   \n",
       "10        16.02         23.24           102.7      797.8          0.08206   \n",
       "11        15.78         17.89           103.6      781.0          0.09710   \n",
       "13        15.85         23.95           103.7      782.7          0.08401   \n",
       "\n",
       "    compactness_mean  concavity_mean  concave points_mean  symmetry_mean  \\\n",
       "6            0.10900         0.11270              0.07400         0.1794   \n",
       "7            0.16450         0.09366              0.05985         0.2196   \n",
       "10           0.06669         0.03299              0.03323         0.1528   \n",
       "11           0.12920         0.09954              0.06606         0.1842   \n",
       "13           0.10020         0.09938              0.05364         0.1847   \n",
       "\n",
       "    fractal_dimension_mean  ...  radius_worst  texture_worst  perimeter_worst  \\\n",
       "6                  0.05742  ...         22.88          27.66            153.2   \n",
       "7                  0.07451  ...         17.06          28.14            110.6   \n",
       "10                 0.05697  ...         19.19          33.88            123.8   \n",
       "11                 0.06082  ...         20.42          27.28            136.5   \n",
       "13                 0.05338  ...         16.84          27.66            112.0   \n",
       "\n",
       "    area_worst  smoothness_worst  compactness_worst  concavity_worst  \\\n",
       "6       1606.0            0.1442             0.2576           0.3784   \n",
       "7        897.0            0.1654             0.3682           0.2678   \n",
       "10      1150.0            0.1181             0.1551           0.1459   \n",
       "11      1299.0            0.1396             0.5609           0.3965   \n",
       "13       876.5            0.1131             0.1924           0.2322   \n",
       "\n",
       "    concave points_worst  symmetry_worst  fractal_dimension_worst  \n",
       "6                0.19320          0.3063                  0.08368  \n",
       "7                0.15560          0.3196                  0.11510  \n",
       "10               0.09975          0.2948                  0.08452  \n",
       "11               0.18100          0.3792                  0.10480  \n",
       "13               0.11190          0.2809                  0.06287  \n",
       "\n",
       "[5 rows x 30 columns]"
      ]
     },
     "execution_count": 16,
     "metadata": {},
     "output_type": "execute_result"
    }
   ],
   "source": [
    "# check x data\n",
    "x_data.head()\n",
    "\n",
    "# contains only features"
   ]
  },
  {
   "cell_type": "code",
   "execution_count": 17,
   "metadata": {},
   "outputs": [
    {
     "data": {
      "text/plain": [
       "6     1\n",
       "7     1\n",
       "10    1\n",
       "11    1\n",
       "13    1\n",
       "Name: one_hot_diagnosis, dtype: int64"
      ]
     },
     "execution_count": 17,
     "metadata": {},
     "output_type": "execute_result"
    }
   ],
   "source": [
    "# check y data\n",
    "y_data.head()\n",
    "\n",
    "# contains only target"
   ]
  },
  {
   "cell_type": "code",
   "execution_count": 18,
   "metadata": {},
   "outputs": [],
   "source": [
    "# importing split function\n",
    "from sklearn.model_selection import train_test_split\n",
    "# splitting the data using stratified split\n",
    "x_train, x_test, y_train, y_test = train_test_split(x_data, y_data, train_size=0.8, test_size=0.2, random_state=0, stratify=y_data)"
   ]
  },
  {
   "cell_type": "code",
   "execution_count": 19,
   "metadata": {},
   "outputs": [
    {
     "data": {
      "text/plain": [
       "318"
      ]
     },
     "execution_count": 19,
     "metadata": {},
     "output_type": "execute_result"
    }
   ],
   "source": [
    "# checking length of train set\n",
    "# should be around 318 as this is 80% of 398\n",
    "len(x_train)\n",
    "\n",
    "# correct"
   ]
  },
  {
   "cell_type": "code",
   "execution_count": 20,
   "metadata": {},
   "outputs": [
    {
     "data": {
      "text/plain": [
       "80"
      ]
     },
     "execution_count": 20,
     "metadata": {},
     "output_type": "execute_result"
    }
   ],
   "source": [
    "# checking length of train set\n",
    "# should be around 80 as this is 20% of 398\n",
    "len(x_test)\n",
    "\n",
    "# correct"
   ]
  },
  {
   "cell_type": "code",
   "execution_count": 21,
   "metadata": {},
   "outputs": [
    {
     "data": {
      "text/plain": [
       "318"
      ]
     },
     "execution_count": 21,
     "metadata": {},
     "output_type": "execute_result"
    }
   ],
   "source": [
    "# checking length of train set\n",
    "# should be around 318 as this is 80% of 398\n",
    "len(y_train)\n",
    "\n",
    "# correct"
   ]
  },
  {
   "cell_type": "code",
   "execution_count": 22,
   "metadata": {},
   "outputs": [
    {
     "data": {
      "text/plain": [
       "80"
      ]
     },
     "execution_count": 22,
     "metadata": {},
     "output_type": "execute_result"
    }
   ],
   "source": [
    "# checking length of train set\n",
    "# should be around 80 as this is 20% of 398\n",
    "len(y_test)\n",
    "\n",
    "# correct"
   ]
  },
  {
   "cell_type": "markdown",
   "metadata": {},
   "source": [
    "### Now to scale the data"
   ]
  },
  {
   "cell_type": "code",
   "execution_count": 23,
   "metadata": {},
   "outputs": [],
   "source": [
    "# importing function\n",
    "from sklearn.preprocessing import StandardScaler\n",
    "scaler = StandardScaler()"
   ]
  },
  {
   "cell_type": "code",
   "execution_count": 24,
   "metadata": {},
   "outputs": [
    {
     "data": {
      "text/plain": [
       "StandardScaler(copy=True, with_mean=True, with_std=True)"
      ]
     },
     "execution_count": 24,
     "metadata": {},
     "output_type": "execute_result"
    }
   ],
   "source": [
    "# fit on training set only\n",
    "# fit on x_train only as it contains the features\n",
    "scaler.fit(x_train)"
   ]
  },
  {
   "cell_type": "code",
   "execution_count": 25,
   "metadata": {},
   "outputs": [],
   "source": [
    "# apply transform to both the training and test\n",
    "x_train = scaler.transform(x_train)\n",
    "x_test = scaler.transform(x_test)"
   ]
  },
  {
   "cell_type": "code",
   "execution_count": 26,
   "metadata": {},
   "outputs": [
    {
     "name": "stdout",
     "output_type": "stream",
     "text": [
      "[[-0.59968175 -0.06379983 -0.54058836 ...  0.36528136  1.37180387\n",
      "   0.3595818 ]\n",
      " [ 0.33071991  2.27441799  0.35788285 ... -0.26509898 -2.05835715\n",
      "  -0.10541952]\n",
      " [-0.38804533 -0.87848415 -0.46448673 ... -1.0961002   0.24283249\n",
      "  -0.93326897]\n",
      " ...\n",
      " [-0.77537992  0.58105603 -0.7476556  ... -0.68229469 -0.07355263\n",
      "   0.7567534 ]\n",
      " [-1.09483113  1.62710085 -1.08981797 ... -0.68049987  1.39911769\n",
      "   0.18142664]\n",
      " [-1.57959835 -0.07118368 -1.57297485 ... -0.89667586 -0.77460744\n",
      "   0.17243715]]\n"
     ]
    }
   ],
   "source": [
    "# checking transformation worked\n",
    "print(x_train)"
   ]
  },
  {
   "cell_type": "markdown",
   "metadata": {},
   "source": [
    "### Now for PCA"
   ]
  },
  {
   "cell_type": "code",
   "execution_count": 27,
   "metadata": {},
   "outputs": [],
   "source": [
    "# import PCA\n",
    "from sklearn.decomposition import PCA"
   ]
  },
  {
   "cell_type": "code",
   "execution_count": 28,
   "metadata": {},
   "outputs": [],
   "source": [
    "# tell PCA to include 95% variance\n",
    "pca = PCA(.95)"
   ]
  },
  {
   "cell_type": "code",
   "execution_count": 29,
   "metadata": {},
   "outputs": [
    {
     "data": {
      "text/plain": [
       "PCA(copy=True, iterated_power='auto', n_components=0.95, random_state=None,\n",
       "    svd_solver='auto', tol=0.0, whiten=False)"
      ]
     },
     "execution_count": 29,
     "metadata": {},
     "output_type": "execute_result"
    }
   ],
   "source": [
    "# now we fit PCA to train set\n",
    "pca.fit(x_train)"
   ]
  },
  {
   "cell_type": "code",
   "execution_count": 30,
   "metadata": {},
   "outputs": [
    {
     "data": {
      "text/plain": [
       "10"
      ]
     },
     "execution_count": 30,
     "metadata": {},
     "output_type": "execute_result"
    }
   ],
   "source": [
    "# checking how many components PCA calculated to encompass 95% variance\n",
    "pca.n_components_"
   ]
  },
  {
   "cell_type": "code",
   "execution_count": 31,
   "metadata": {},
   "outputs": [
    {
     "data": {
      "image/png": "[encoded data removed]",
      "text/plain": [
       "<Figure size 432x288 with 1 Axes>"
      ]
     },
     "metadata": {
      "needs_background": "light"
     },
     "output_type": "display_data"
    }
   ],
   "source": [
    "# can graphically represent % variation in each PC in a scree plot\n",
    "\n",
    "# calculate % variation of each PC\n",
    "per_var = np.round(pca.explained_variance_ratio_*100, decimals=1)\n",
    "\n",
    "# create labels for scree plot\n",
    "labels = [\"PC\" + str(x) for x in range(1, len(per_var)+1)]\n",
    "\n",
    "# now use matplotlib to create bar plot\n",
    "plt.bar(x=range(1,len(per_var)+1), height=per_var, tick_label=labels)\n",
    "plt.ylabel(\"Percentage of explained variance\")\n",
    "plt.xlabel(\"Principal component\")\n",
    "plt.title(\"Scree Plot\")\n",
    "plt.show()"
   ]
  },
  {
   "cell_type": "code",
   "execution_count": 32,
   "metadata": {},
   "outputs": [
    {
     "name": "stdout",
     "output_type": "stream",
     "text": [
      "Explained variation per principal component: [0.42619529 0.19132878 0.09729039 0.06666511 0.06153282 0.03988691\n",
      " 0.02485973 0.01875911 0.01527045 0.01114044]\n"
     ]
    }
   ],
   "source": [
    "# get exact figures for % variance captured in each PC\n",
    "print('Explained variation per principal component: {}'.format(pca.explained_variance_ratio_))"
   ]
  },
  {
   "cell_type": "markdown",
   "metadata": {},
   "source": [
    "This means that PC1 contains ~ 43% of the variance, PC2 ~19%, PC3 ~10% etc.\n",
    "\n",
    "So, dropping down to 3D (instead of the original 32D), would capture ~ 72% of the variance in our data.\n",
    "\n",
    "If we want to capture 95%, PCA suggests that we can reduce the feature space from 32D to 10D. \n",
    "\n",
    "**This is only slightly different from the PCA results on the dataset with the outliers left in. With the outliers left in, PC1 explained approx. 45% of the variance instead of 42%. Everything else is basically the same.**\n",
    "\n",
    "However, principial components are combinations of features, so need to see a table to understand which features are most important to each PC."
   ]
  },
  {
   "cell_type": "code",
   "execution_count": 33,
   "metadata": {},
   "outputs": [
    {
     "data": {
      "text/html": [
       "<div>\n",
       "<style scoped>\n",
       "    .dataframe tbody tr th:only-of-type {\n",
       "        vertical-align: middle;\n",
       "    }\n",
       "\n",
       "    .dataframe tbody tr th {\n",
       "        vertical-align: top;\n",
       "    }\n",
       "\n",
       "    .dataframe thead th {\n",
       "        text-align: right;\n",
       "    }\n",
       "</style>\n",
       "<table border=\"1\" class=\"dataframe\">\n",
       "  <thead>\n",
       "    <tr style=\"text-align: right;\">\n",
       "      <th></th>\n",
       "      <th>radius_mean</th>\n",
       "      <th>texture_mean</th>\n",
       "      <th>perimeter_mean</th>\n",
       "      <th>area_mean</th>\n",
       "      <th>smoothness_mean</th>\n",
       "      <th>compactness_mean</th>\n",
       "      <th>concavity_mean</th>\n",
       "      <th>concave points_mean</th>\n",
       "      <th>symmetry_mean</th>\n",
       "      <th>fractal_dimension_mean</th>\n",
       "      <th>...</th>\n",
       "      <th>radius_worst</th>\n",
       "      <th>texture_worst</th>\n",
       "      <th>perimeter_worst</th>\n",
       "      <th>area_worst</th>\n",
       "      <th>smoothness_worst</th>\n",
       "      <th>compactness_worst</th>\n",
       "      <th>concavity_worst</th>\n",
       "      <th>concave points_worst</th>\n",
       "      <th>symmetry_worst</th>\n",
       "      <th>fractal_dimension_worst</th>\n",
       "    </tr>\n",
       "  </thead>\n",
       "  <tbody>\n",
       "    <tr>\n",
       "      <td>PC1</td>\n",
       "      <td>0.223591</td>\n",
       "      <td>0.098668</td>\n",
       "      <td>0.231978</td>\n",
       "      <td>0.224280</td>\n",
       "      <td>0.122184</td>\n",
       "      <td>0.228352</td>\n",
       "      <td>0.260461</td>\n",
       "      <td>0.263581</td>\n",
       "      <td>0.100280</td>\n",
       "      <td>0.012088</td>\n",
       "      <td>...</td>\n",
       "      <td>0.239299</td>\n",
       "      <td>0.107220</td>\n",
       "      <td>0.247713</td>\n",
       "      <td>0.238514</td>\n",
       "      <td>0.129163</td>\n",
       "      <td>0.217118</td>\n",
       "      <td>0.240615</td>\n",
       "      <td>0.254998</td>\n",
       "      <td>0.104808</td>\n",
       "      <td>0.122174</td>\n",
       "    </tr>\n",
       "    <tr>\n",
       "      <td>PC2</td>\n",
       "      <td>0.232411</td>\n",
       "      <td>0.043555</td>\n",
       "      <td>0.213746</td>\n",
       "      <td>0.230428</td>\n",
       "      <td>-0.235597</td>\n",
       "      <td>-0.185499</td>\n",
       "      <td>-0.061981</td>\n",
       "      <td>-0.003893</td>\n",
       "      <td>-0.149938</td>\n",
       "      <td>-0.366761</td>\n",
       "      <td>...</td>\n",
       "      <td>0.206421</td>\n",
       "      <td>0.027245</td>\n",
       "      <td>0.183915</td>\n",
       "      <td>0.203162</td>\n",
       "      <td>-0.214242</td>\n",
       "      <td>-0.156994</td>\n",
       "      <td>-0.076144</td>\n",
       "      <td>-0.027613</td>\n",
       "      <td>-0.117476</td>\n",
       "      <td>-0.281589</td>\n",
       "    </tr>\n",
       "    <tr>\n",
       "      <td>PC3</td>\n",
       "      <td>-0.022654</td>\n",
       "      <td>0.256901</td>\n",
       "      <td>-0.027089</td>\n",
       "      <td>-0.005331</td>\n",
       "      <td>-0.103756</td>\n",
       "      <td>-0.090123</td>\n",
       "      <td>-0.034115</td>\n",
       "      <td>-0.047315</td>\n",
       "      <td>-0.006526</td>\n",
       "      <td>-0.077905</td>\n",
       "      <td>...</td>\n",
       "      <td>-0.034135</td>\n",
       "      <td>0.194997</td>\n",
       "      <td>-0.041964</td>\n",
       "      <td>-0.017074</td>\n",
       "      <td>-0.189374</td>\n",
       "      <td>-0.187856</td>\n",
       "      <td>-0.141571</td>\n",
       "      <td>-0.142326</td>\n",
       "      <td>-0.204770</td>\n",
       "      <td>-0.216662</td>\n",
       "    </tr>\n",
       "    <tr>\n",
       "      <td>PC4</td>\n",
       "      <td>-0.008616</td>\n",
       "      <td>0.406529</td>\n",
       "      <td>-0.005585</td>\n",
       "      <td>-0.024390</td>\n",
       "      <td>-0.245143</td>\n",
       "      <td>0.006310</td>\n",
       "      <td>0.047272</td>\n",
       "      <td>-0.071755</td>\n",
       "      <td>-0.316227</td>\n",
       "      <td>-0.033798</td>\n",
       "      <td>...</td>\n",
       "      <td>-0.032737</td>\n",
       "      <td>0.418352</td>\n",
       "      <td>-0.012826</td>\n",
       "      <td>-0.045080</td>\n",
       "      <td>-0.122081</td>\n",
       "      <td>0.167103</td>\n",
       "      <td>0.172566</td>\n",
       "      <td>0.042980</td>\n",
       "      <td>-0.168248</td>\n",
       "      <td>0.132179</td>\n",
       "    </tr>\n",
       "    <tr>\n",
       "      <td>PC5</td>\n",
       "      <td>0.047970</td>\n",
       "      <td>-0.360533</td>\n",
       "      <td>0.049846</td>\n",
       "      <td>0.038128</td>\n",
       "      <td>-0.173920</td>\n",
       "      <td>0.041856</td>\n",
       "      <td>0.032141</td>\n",
       "      <td>-0.004422</td>\n",
       "      <td>-0.280426</td>\n",
       "      <td>-0.037296</td>\n",
       "      <td>...</td>\n",
       "      <td>-0.026170</td>\n",
       "      <td>-0.449880</td>\n",
       "      <td>-0.008653</td>\n",
       "      <td>-0.033982</td>\n",
       "      <td>-0.272358</td>\n",
       "      <td>0.034895</td>\n",
       "      <td>0.032380</td>\n",
       "      <td>-0.008791</td>\n",
       "      <td>-0.368493</td>\n",
       "      <td>-0.035623</td>\n",
       "    </tr>\n",
       "  </tbody>\n",
       "</table>\n",
       "<p>5 rows × 30 columns</p>\n",
       "</div>"
      ],
      "text/plain": [
       "     radius_mean  texture_mean  perimeter_mean  area_mean  smoothness_mean  \\\n",
       "PC1     0.223591      0.098668        0.231978   0.224280         0.122184   \n",
       "PC2     0.232411      0.043555        0.213746   0.230428        -0.235597   \n",
       "PC3    -0.022654      0.256901       -0.027089  -0.005331        -0.103756   \n",
       "PC4    -0.008616      0.406529       -0.005585  -0.024390        -0.245143   \n",
       "PC5     0.047970     -0.360533        0.049846   0.038128        -0.173920   \n",
       "\n",
       "     compactness_mean  concavity_mean  concave points_mean  symmetry_mean  \\\n",
       "PC1          0.228352        0.260461             0.263581       0.100280   \n",
       "PC2         -0.185499       -0.061981            -0.003893      -0.149938   \n",
       "PC3         -0.090123       -0.034115            -0.047315      -0.006526   \n",
       "PC4          0.006310        0.047272            -0.071755      -0.316227   \n",
       "PC5          0.041856        0.032141            -0.004422      -0.280426   \n",
       "\n",
       "     fractal_dimension_mean  ...  radius_worst  texture_worst  \\\n",
       "PC1                0.012088  ...      0.239299       0.107220   \n",
       "PC2               -0.366761  ...      0.206421       0.027245   \n",
       "PC3               -0.077905  ...     -0.034135       0.194997   \n",
       "PC4               -0.033798  ...     -0.032737       0.418352   \n",
       "PC5               -0.037296  ...     -0.026170      -0.449880   \n",
       "\n",
       "     perimeter_worst  area_worst  smoothness_worst  compactness_worst  \\\n",
       "PC1         0.247713    0.238514          0.129163           0.217118   \n",
       "PC2         0.183915    0.203162         -0.214242          -0.156994   \n",
       "PC3        -0.041964   -0.017074         -0.189374          -0.187856   \n",
       "PC4        -0.012826   -0.045080         -0.122081           0.167103   \n",
       "PC5        -0.008653   -0.033982         -0.272358           0.034895   \n",
       "\n",
       "     concavity_worst  concave points_worst  symmetry_worst  \\\n",
       "PC1         0.240615              0.254998        0.104808   \n",
       "PC2        -0.076144             -0.027613       -0.117476   \n",
       "PC3        -0.141571             -0.142326       -0.204770   \n",
       "PC4         0.172566              0.042980       -0.168248   \n",
       "PC5         0.032380             -0.008791       -0.368493   \n",
       "\n",
       "     fractal_dimension_worst  \n",
       "PC1                 0.122174  \n",
       "PC2                -0.281589  \n",
       "PC3                -0.216662  \n",
       "PC4                 0.132179  \n",
       "PC5                -0.035623  \n",
       "\n",
       "[5 rows x 30 columns]"
      ]
     },
     "execution_count": 33,
     "metadata": {},
     "output_type": "execute_result"
    }
   ],
   "source": [
    "# displaying the eigenvectors for each feature\n",
    "principal_components = pd.DataFrame(data=pca.components_, index=[\"PC1\", \"PC2\", \"PC3\", \"PC4\", \"PC5\", \"PC6\", \"PC7\", \"PC8\", \"PC9\", \"PC10\"], columns=[\"radius_mean\", \"texture_mean\", \"perimeter_mean\", \"area_mean\", \"smoothness_mean\", \"compactness_mean\", \"concavity_mean\", \"concave points_mean\", \"symmetry_mean\", \"fractal_dimension_mean\", \"radius_se\", \"texture_se\", \"perimeter_se\", \"area_se\", \"smoothness_se\", \"compactness_se\", \"concavity_se\", \"concave points_se\", \"symmetry_se\", \"fractal_dimension_se\", \"radius_worst\", \"texture_worst\", \"perimeter_worst\", \"area_worst\", \"smoothness_worst\", \"compactness_worst\", \"concavity_worst\", \"concave points_worst\", \"symmetry_worst\", \"fractal_dimension_worst\"])\n",
    "principal_components.head()"
   ]
  },
  {
   "cell_type": "markdown",
   "metadata": {},
   "source": [
    "The eigenvector with the largest absolute value has the greatest effect on that PC.\n",
    "\n",
    "For PC1, the following features had the greatest effect:\n",
    "* Concave points mean (0.263)\n",
    "* Concavity mean (0.26)\n",
    "* Concave points worst (0.254)\n",
    "* Perimeter worst (0.247)\n",
    "\n",
    "This is different to the dataset that kept the outliers in, the results for which were:\n",
    "* Concave points mean (0.261)\n",
    "* Concavity mean (0.258)\n",
    "* Concave points worst (0.248)\n",
    "* Compactness mean (0.241)\n",
    "\n",
    "**Seems that removing outliers has meant that the features of concave points mean, concavity mean and concave points worst have a greater effect on PC1, plus perimeter has a greater effect than it did before / than compactness mean.**"
   ]
  },
  {
   "cell_type": "code",
   "execution_count": 34,
   "metadata": {},
   "outputs": [],
   "source": [
    "# now we have investigated, can apply PCA transformation to train and test sets\n",
    "x_train = pca.transform(x_train)\n",
    "x_test = pca.transform(x_test)"
   ]
  },
  {
   "cell_type": "markdown",
   "metadata": {},
   "source": [
    "### Now for logistic regression"
   ]
  },
  {
   "cell_type": "code",
   "execution_count": 35,
   "metadata": {},
   "outputs": [],
   "source": [
    "# import the model we want to use\n",
    "from sklearn.linear_model import LogisticRegression\n",
    "# setting the solver cos it Jupyter didn't like it\n",
    "logisticRegr = LogisticRegression(solver = 'lbfgs')"
   ]
  },
  {
   "cell_type": "code",
   "execution_count": 36,
   "metadata": {},
   "outputs": [
    {
     "data": {
      "text/plain": [
       "LogisticRegression(C=1.0, class_weight=None, dual=False, fit_intercept=True,\n",
       "                   intercept_scaling=1, l1_ratio=None, max_iter=100,\n",
       "                   multi_class='warn', n_jobs=None, penalty='l2',\n",
       "                   random_state=None, solver='lbfgs', tol=0.0001, verbose=0,\n",
       "                   warm_start=False)"
      ]
     },
     "execution_count": 36,
     "metadata": {},
     "output_type": "execute_result"
    }
   ],
   "source": [
    "# training the model on the data - model is learning the relationship between features and classes\n",
    "logisticRegr.fit(x_train, y_train)"
   ]
  },
  {
   "cell_type": "code",
   "execution_count": 37,
   "metadata": {},
   "outputs": [],
   "source": [
    "# now to apply it to the test data\n",
    "# model will predict the class based on what it has learned in the training\n",
    "predictions = logisticRegr.predict(x_test)"
   ]
  },
  {
   "cell_type": "code",
   "execution_count": 38,
   "metadata": {},
   "outputs": [
    {
     "name": "stdout",
     "output_type": "stream",
     "text": [
      "[1 1 0 0 0 0 1 0 1 0 0 1 0 0 0 0 0 0 0 0 1 0 0 0 0 0 1 0 0 0 0 0 0 1 0 0 0\n",
      " 0 0 0 1 0 0 0 0 0 0 0 0 1 0 0 1 0 1 0 0 0 1 0 1 0 0 1 0 0 0 1 1 0 0 0 0 0\n",
      " 1 0 0 0 0 1]\n"
     ]
    }
   ],
   "source": [
    "print(predictions)\n",
    "# can see it has predicted classes for the test data"
   ]
  },
  {
   "cell_type": "markdown",
   "metadata": {},
   "source": [
    "### Assessing model performance"
   ]
  },
  {
   "cell_type": "markdown",
   "metadata": {},
   "source": [
    "For our target variable of diagnosis, benign is the negative class (0) and malignant is the positive class (1).\n",
    "\n",
    "Of the metrics used to assess model performance (accuracy, precision, recall), **recall seems the most appropriate for this data**.\n",
    "\n",
    "* Accuracy: the proportion of predictions a model gets right (TP + TN / TP + TN + FP + FN)\n",
    "\n",
    "* Precision: the proportion of positive predictions a model gets right (TP / TP + FP)\n",
    "\n",
    "* Recall: the proportion of actual positives that were identified correctly (TP / TP + FN)\n",
    "\n",
    "**As we are predicting disease, we want to minimise false negatives. A false negative would be a tumour being classified as benign when in fact it is malignant, and therefore the breast cancer would go undiagnosed. To minimise false negatives, we want to increase recall.**\n",
    "\n",
    "There is a 'tug of war' between precision (which aims to minimise false positives) and recall (which aims to minimise false negatives). The F1 score is the harmonic mean of both. A model with perfect precision and recall would have an F1 score of 1.\n",
    "\n",
    "Also, in this dataset with outliers removed, we have 300:98 class distribution (benign:malignant). This is a prominent class imbalance and so accuracy would be misleading."
   ]
  },
  {
   "cell_type": "code",
   "execution_count": 39,
   "metadata": {},
   "outputs": [
    {
     "name": "stdout",
     "output_type": "stream",
     "text": [
      "              precision    recall  f1-score   support\n",
      "\n",
      "           0       0.95      0.97      0.96        60\n",
      "           1       0.89      0.85      0.87        20\n",
      "\n",
      "    accuracy                           0.94        80\n",
      "   macro avg       0.92      0.91      0.92        80\n",
      "weighted avg       0.94      0.94      0.94        80\n",
      "\n"
     ]
    }
   ],
   "source": [
    "# let's look at the other metrics\n",
    "from sklearn.metrics import classification_report\n",
    "print(classification_report(y_test,predictions))"
   ]
  },
  {
   "cell_type": "code",
   "execution_count": 40,
   "metadata": {},
   "outputs": [
    {
     "data": {
      "text/plain": [
       "array([[58,  2],\n",
       "       [ 3, 17]], dtype=int64)"
      ]
     },
     "execution_count": 40,
     "metadata": {},
     "output_type": "execute_result"
    }
   ],
   "source": [
    "# creating a confusion matrix\n",
    "from sklearn import metrics\n",
    "cnf_matrix = metrics.confusion_matrix(y_test, predictions)\n",
    "cnf_matrix"
   ]
  },
  {
   "cell_type": "code",
   "execution_count": 41,
   "metadata": {},
   "outputs": [
    {
     "data": {
      "text/plain": [
       "Text(0.5, 15.0, 'Predicted class')"
      ]
     },
     "execution_count": 41,
     "metadata": {},
     "output_type": "execute_result"
    },
    {
     "data": {
      "image/png": "[encoded data removed]",
      "text/plain": [
       "<Figure size 432x288 with 2 Axes>"
      ]
     },
     "metadata": {
      "needs_background": "light"
     },
     "output_type": "display_data"
    }
   ],
   "source": [
    "# making confusion matrix a heatmap\n",
    "\n",
    "class_names=[0,1] \n",
    "fig, ax = plt.subplots()\n",
    "tick_marks = np.arange(len(class_names))\n",
    "plt.xticks(tick_marks, class_names)\n",
    "plt.yticks(tick_marks, class_names)\n",
    "sns.heatmap(pd.DataFrame(cnf_matrix), annot=True, cmap=\"BuPu\" ,fmt='g')\n",
    "ax.xaxis.set_label_position(\"bottom\")\n",
    "plt.tight_layout()\n",
    "plt.title('Confusion matrix', y=1.1)\n",
    "plt.ylabel('Actual class')\n",
    "plt.xlabel('Predicted class')"
   ]
  },
  {
   "cell_type": "markdown",
   "metadata": {},
   "source": [
    "Predicted label 0 / actual label 0 = true negative  \n",
    "Predicted label 0 / actual label 1 = false negative  \n",
    "Predicted label 1 / actual label 1 = true positive  \n",
    "Predicted label 1 / actual label 0 = false positive  \n",
    "\n",
    "So this matrix is saying there are:\n",
    "* 58 true negatives\n",
    "* 3 false negatives\n",
    "* 2 false positives\n",
    "* 17 true positives"
   ]
  },
  {
   "cell_type": "code",
   "execution_count": 42,
   "metadata": {},
   "outputs": [
    {
     "name": "stdout",
     "output_type": "stream",
     "text": [
      "Accuracy: 0.9375\n",
      "Precision: 0.8947368421052632\n",
      "Recall: 0.85\n"
     ]
    }
   ],
   "source": [
    "# try looking at the metrics for class 1 separately\n",
    "# should be the same as classification report above, just makes it easier to read\n",
    "print(\"Accuracy:\",metrics.accuracy_score(y_test, predictions))\n",
    "print(\"Precision:\",metrics.precision_score(y_test, predictions))\n",
    "print(\"Recall:\",metrics.recall_score(y_test, predictions))"
   ]
  },
  {
   "cell_type": "markdown",
   "metadata": {},
   "source": [
    "This model has the worst recall of all."
   ]
  },
  {
   "cell_type": "code",
   "execution_count": 43,
   "metadata": {},
   "outputs": [
    {
     "data": {
      "image/png": "[encoded data removed]",
      "text/plain": [
       "<Figure size 432x288 with 1 Axes>"
      ]
     },
     "metadata": {
      "needs_background": "light"
     },
     "output_type": "display_data"
    }
   ],
   "source": [
    "# attempting to plot an ROC curve\n",
    "\n",
    "# first need to predict probability\n",
    "# y_pred_proba is the predicted probability for a class in y_test dataset\n",
    "# .predict_proba only gives the output of 1 in a binary classification (which is malignant, which is what we want)\n",
    "# [:,1] also only gives the output for class 1\n",
    "y_pred_proba = logisticRegr.predict_proba(x_test)[:,1]\n",
    "\n",
    "# then this is plotting the ROC curve using y_test data (classes) and the predicted probability of getting class 1\n",
    "# fpr is false positive rate on the x axis\n",
    "# tpr is true positive rate on the y axis\n",
    "fpr, tpr, _ = metrics.roc_curve(y_test,  y_pred_proba)\n",
    "\n",
    "# calculating the AUC curve\n",
    "auc = metrics.roc_auc_score(y_test, y_pred_proba)\n",
    "\n",
    "# plotting it on a graph\n",
    "\n",
    "# plots x and y axes\n",
    "plt.plot(fpr,tpr)\n",
    "# plots legend as auc score\n",
    "plt.legend([\"AUC %.3f\"%auc])\n",
    "# plots labels / title\n",
    "plt.xlabel(\"False positive rate (FPR)\")\n",
    "plt.ylabel(\"True ppositive rate (TPR)\")\n",
    "plt.title(\"ROC Curve\")\n",
    "# adds a grid\n",
    "plt.grid()\n",
    "# adds the line for an AUC of 0.5, i.e. a useless classfier\n",
    "plt.plot([0, 1], [0, 1], 'k--')\n",
    "# shows plot\n",
    "plt.show()"
   ]
  },
  {
   "cell_type": "markdown",
   "metadata": {},
   "source": [
    "So to summarise\n",
    "\n",
    "* This model has the lowest recall of all (0.85)\n",
    "* Also has the lowest F1 score so far (0.87)\n",
    "* The AUC score is 0.964, which is second lowest (after Model 2)\n",
    "\n",
    "**Likely that model performance has been reduced by removing so many records / outliers.**"
   ]
  }
 ],
 "metadata": {
  "kernelspec": {
   "display_name": "Python 3",
   "language": "python",
   "name": "python3"
  },
  "language_info": {
   "codemirror_mode": {
    "name": "ipython",
    "version": 3
   },
   "file_extension": ".py",
   "mimetype": "text/x-python",
   "name": "python",
   "nbconvert_exporter": "python",
   "pygments_lexer": "ipython3",
   "version": "3.7.4"
  }
 },
 "nbformat": 4,
 "nbformat_minor": 2
}
