{
 "cells": [
  {
   "cell_type": "markdown",
   "metadata": {},
   "source": [
    "# Model 2: handpicked features, outliers removed\n",
    "\n",
    "This model (logistic regression) uses features that have been handpicked based on their Pearson's Product Moment Coefficients with diagnosis shown in the correltaion matrix (in my notebook Amber_data_exploration).\n",
    "\n",
    "These are as follows, in descending order:\n",
    "* concave points_worst, 0.79\n",
    "* concave points_mean, 0.78\n",
    "* radius_worst, 0.78\n",
    "* perimeter_worst, 0.78\n",
    "* area_worst, 0.78\n",
    "* perimeter_mean, 0.74\n",
    "* area_mean, 0.71\n",
    "* radius_mean, 0.73\n",
    "* concavity_mean, 0.7\n",
    "\n",
    "The rest of the features have been dropped as they were not strongly correlated to diagnosis.\n",
    "\n",
    "**This model uses data that has had the outliers removed. There are 524 total records (instead of the original 569).**"
   ]
  },
  {
   "cell_type": "code",
   "execution_count": 1,
   "metadata": {},
   "outputs": [],
   "source": [
    "# load in the relevant libraries\n",
    "import pandas as pd\n",
    "import numpy as np\n",
    "import os\n",
    "import matplotlib.pyplot as plt\n",
    "import seaborn as sns"
   ]
  },
  {
   "cell_type": "code",
   "execution_count": 2,
   "metadata": {},
   "outputs": [],
   "source": [
    "# load in the csv file created in Amber_model1_HPF_with_outliers notebook\n",
    "# this contains only the features of interest and no outliers\n",
    "handpicked_predictors_outliers_removed = pd.read_csv(\"C:/Users/alsaw/OneDrive/Documents/2019-20 post India/Coding/CFG - python/Final Project/Team2_final_project/Data/Interim/handpicked_predictors_outliers_removed.csv\")"
   ]
  },
  {
   "cell_type": "code",
   "execution_count": 3,
   "metadata": {
    "scrolled": true
   },
   "outputs": [
    {
     "name": "stdout",
     "output_type": "stream",
     "text": [
      "<class 'pandas.core.frame.DataFrame'>\n",
      "RangeIndex: 524 entries, 0 to 523\n",
      "Data columns (total 11 columns):\n",
      "Unnamed: 0              524 non-null int64\n",
      "one_hot_diagnosis       524 non-null int64\n",
      "concave points_worst    524 non-null float64\n",
      "concave points_mean     524 non-null float64\n",
      "radius_worst            524 non-null float64\n",
      "perimeter_worst         524 non-null float64\n",
      "area_worst              524 non-null float64\n",
      "perimeter_mean          524 non-null float64\n",
      "area_mean               524 non-null float64\n",
      "radius_mean             524 non-null float64\n",
      "concavity_mean          524 non-null float64\n",
      "dtypes: float64(9), int64(2)\n",
      "memory usage: 45.2 KB\n"
     ]
    }
   ],
   "source": [
    "handpicked_predictors_outliers_removed.info()"
   ]
  },
  {
   "cell_type": "code",
   "execution_count": 4,
   "metadata": {
    "scrolled": true
   },
   "outputs": [
    {
     "data": {
      "text/html": [
       "<div>\n",
       "<style scoped>\n",
       "    .dataframe tbody tr th:only-of-type {\n",
       "        vertical-align: middle;\n",
       "    }\n",
       "\n",
       "    .dataframe tbody tr th {\n",
       "        vertical-align: top;\n",
       "    }\n",
       "\n",
       "    .dataframe thead th {\n",
       "        text-align: right;\n",
       "    }\n",
       "</style>\n",
       "<table border=\"1\" class=\"dataframe\">\n",
       "  <thead>\n",
       "    <tr style=\"text-align: right;\">\n",
       "      <th></th>\n",
       "      <th>Unnamed: 0</th>\n",
       "      <th>one_hot_diagnosis</th>\n",
       "      <th>concave points_worst</th>\n",
       "      <th>concave points_mean</th>\n",
       "      <th>radius_worst</th>\n",
       "      <th>perimeter_worst</th>\n",
       "      <th>area_worst</th>\n",
       "      <th>perimeter_mean</th>\n",
       "      <th>area_mean</th>\n",
       "      <th>radius_mean</th>\n",
       "      <th>concavity_mean</th>\n",
       "    </tr>\n",
       "  </thead>\n",
       "  <tbody>\n",
       "    <tr>\n",
       "      <td>0</td>\n",
       "      <td>2</td>\n",
       "      <td>1</td>\n",
       "      <td>0.2430</td>\n",
       "      <td>0.12790</td>\n",
       "      <td>23.57</td>\n",
       "      <td>152.50</td>\n",
       "      <td>1709.0</td>\n",
       "      <td>130.00</td>\n",
       "      <td>1203.0</td>\n",
       "      <td>19.69</td>\n",
       "      <td>0.1974</td>\n",
       "    </tr>\n",
       "    <tr>\n",
       "      <td>1</td>\n",
       "      <td>3</td>\n",
       "      <td>1</td>\n",
       "      <td>0.2575</td>\n",
       "      <td>0.10520</td>\n",
       "      <td>14.91</td>\n",
       "      <td>98.87</td>\n",
       "      <td>567.7</td>\n",
       "      <td>77.58</td>\n",
       "      <td>386.1</td>\n",
       "      <td>11.42</td>\n",
       "      <td>0.2414</td>\n",
       "    </tr>\n",
       "    <tr>\n",
       "      <td>2</td>\n",
       "      <td>4</td>\n",
       "      <td>1</td>\n",
       "      <td>0.1625</td>\n",
       "      <td>0.10430</td>\n",
       "      <td>22.54</td>\n",
       "      <td>152.20</td>\n",
       "      <td>1575.0</td>\n",
       "      <td>135.10</td>\n",
       "      <td>1297.0</td>\n",
       "      <td>20.29</td>\n",
       "      <td>0.1980</td>\n",
       "    </tr>\n",
       "    <tr>\n",
       "      <td>3</td>\n",
       "      <td>5</td>\n",
       "      <td>1</td>\n",
       "      <td>0.1741</td>\n",
       "      <td>0.08089</td>\n",
       "      <td>15.47</td>\n",
       "      <td>103.40</td>\n",
       "      <td>741.6</td>\n",
       "      <td>82.57</td>\n",
       "      <td>477.1</td>\n",
       "      <td>12.45</td>\n",
       "      <td>0.1578</td>\n",
       "    </tr>\n",
       "    <tr>\n",
       "      <td>4</td>\n",
       "      <td>6</td>\n",
       "      <td>1</td>\n",
       "      <td>0.1932</td>\n",
       "      <td>0.07400</td>\n",
       "      <td>22.88</td>\n",
       "      <td>153.20</td>\n",
       "      <td>1606.0</td>\n",
       "      <td>119.60</td>\n",
       "      <td>1040.0</td>\n",
       "      <td>18.25</td>\n",
       "      <td>0.1127</td>\n",
       "    </tr>\n",
       "  </tbody>\n",
       "</table>\n",
       "</div>"
      ],
      "text/plain": [
       "   Unnamed: 0  one_hot_diagnosis  concave points_worst  concave points_mean  \\\n",
       "0           2                  1                0.2430              0.12790   \n",
       "1           3                  1                0.2575              0.10520   \n",
       "2           4                  1                0.1625              0.10430   \n",
       "3           5                  1                0.1741              0.08089   \n",
       "4           6                  1                0.1932              0.07400   \n",
       "\n",
       "   radius_worst  perimeter_worst  area_worst  perimeter_mean  area_mean  \\\n",
       "0         23.57           152.50      1709.0          130.00     1203.0   \n",
       "1         14.91            98.87       567.7           77.58      386.1   \n",
       "2         22.54           152.20      1575.0          135.10     1297.0   \n",
       "3         15.47           103.40       741.6           82.57      477.1   \n",
       "4         22.88           153.20      1606.0          119.60     1040.0   \n",
       "\n",
       "   radius_mean  concavity_mean  \n",
       "0        19.69          0.1974  \n",
       "1        11.42          0.2414  \n",
       "2        20.29          0.1980  \n",
       "3        12.45          0.1578  \n",
       "4        18.25          0.1127  "
      ]
     },
     "execution_count": 4,
     "metadata": {},
     "output_type": "execute_result"
    }
   ],
   "source": [
    "handpicked_predictors_outliers_removed.head()"
   ]
  },
  {
   "cell_type": "code",
   "execution_count": 5,
   "metadata": {},
   "outputs": [],
   "source": [
    "# removing Unnamed: 0\n",
    "handpicked_predictors_outliers_removed = handpicked_predictors_outliers_removed.drop(\"Unnamed: 0\", axis=1)"
   ]
  },
  {
   "cell_type": "code",
   "execution_count": 6,
   "metadata": {},
   "outputs": [
    {
     "data": {
      "text/html": [
       "<div>\n",
       "<style scoped>\n",
       "    .dataframe tbody tr th:only-of-type {\n",
       "        vertical-align: middle;\n",
       "    }\n",
       "\n",
       "    .dataframe tbody tr th {\n",
       "        vertical-align: top;\n",
       "    }\n",
       "\n",
       "    .dataframe thead th {\n",
       "        text-align: right;\n",
       "    }\n",
       "</style>\n",
       "<table border=\"1\" class=\"dataframe\">\n",
       "  <thead>\n",
       "    <tr style=\"text-align: right;\">\n",
       "      <th></th>\n",
       "      <th>one_hot_diagnosis</th>\n",
       "      <th>concave points_worst</th>\n",
       "      <th>concave points_mean</th>\n",
       "      <th>radius_worst</th>\n",
       "      <th>perimeter_worst</th>\n",
       "      <th>area_worst</th>\n",
       "      <th>perimeter_mean</th>\n",
       "      <th>area_mean</th>\n",
       "      <th>radius_mean</th>\n",
       "      <th>concavity_mean</th>\n",
       "    </tr>\n",
       "  </thead>\n",
       "  <tbody>\n",
       "    <tr>\n",
       "      <td>0</td>\n",
       "      <td>1</td>\n",
       "      <td>0.2430</td>\n",
       "      <td>0.12790</td>\n",
       "      <td>23.57</td>\n",
       "      <td>152.50</td>\n",
       "      <td>1709.0</td>\n",
       "      <td>130.00</td>\n",
       "      <td>1203.0</td>\n",
       "      <td>19.69</td>\n",
       "      <td>0.1974</td>\n",
       "    </tr>\n",
       "    <tr>\n",
       "      <td>1</td>\n",
       "      <td>1</td>\n",
       "      <td>0.2575</td>\n",
       "      <td>0.10520</td>\n",
       "      <td>14.91</td>\n",
       "      <td>98.87</td>\n",
       "      <td>567.7</td>\n",
       "      <td>77.58</td>\n",
       "      <td>386.1</td>\n",
       "      <td>11.42</td>\n",
       "      <td>0.2414</td>\n",
       "    </tr>\n",
       "    <tr>\n",
       "      <td>2</td>\n",
       "      <td>1</td>\n",
       "      <td>0.1625</td>\n",
       "      <td>0.10430</td>\n",
       "      <td>22.54</td>\n",
       "      <td>152.20</td>\n",
       "      <td>1575.0</td>\n",
       "      <td>135.10</td>\n",
       "      <td>1297.0</td>\n",
       "      <td>20.29</td>\n",
       "      <td>0.1980</td>\n",
       "    </tr>\n",
       "    <tr>\n",
       "      <td>3</td>\n",
       "      <td>1</td>\n",
       "      <td>0.1741</td>\n",
       "      <td>0.08089</td>\n",
       "      <td>15.47</td>\n",
       "      <td>103.40</td>\n",
       "      <td>741.6</td>\n",
       "      <td>82.57</td>\n",
       "      <td>477.1</td>\n",
       "      <td>12.45</td>\n",
       "      <td>0.1578</td>\n",
       "    </tr>\n",
       "    <tr>\n",
       "      <td>4</td>\n",
       "      <td>1</td>\n",
       "      <td>0.1932</td>\n",
       "      <td>0.07400</td>\n",
       "      <td>22.88</td>\n",
       "      <td>153.20</td>\n",
       "      <td>1606.0</td>\n",
       "      <td>119.60</td>\n",
       "      <td>1040.0</td>\n",
       "      <td>18.25</td>\n",
       "      <td>0.1127</td>\n",
       "    </tr>\n",
       "  </tbody>\n",
       "</table>\n",
       "</div>"
      ],
      "text/plain": [
       "   one_hot_diagnosis  concave points_worst  concave points_mean  radius_worst  \\\n",
       "0                  1                0.2430              0.12790         23.57   \n",
       "1                  1                0.2575              0.10520         14.91   \n",
       "2                  1                0.1625              0.10430         22.54   \n",
       "3                  1                0.1741              0.08089         15.47   \n",
       "4                  1                0.1932              0.07400         22.88   \n",
       "\n",
       "   perimeter_worst  area_worst  perimeter_mean  area_mean  radius_mean  \\\n",
       "0           152.50      1709.0          130.00     1203.0        19.69   \n",
       "1            98.87       567.7           77.58      386.1        11.42   \n",
       "2           152.20      1575.0          135.10     1297.0        20.29   \n",
       "3           103.40       741.6           82.57      477.1        12.45   \n",
       "4           153.20      1606.0          119.60     1040.0        18.25   \n",
       "\n",
       "   concavity_mean  \n",
       "0          0.1974  \n",
       "1          0.2414  \n",
       "2          0.1980  \n",
       "3          0.1578  \n",
       "4          0.1127  "
      ]
     },
     "execution_count": 6,
     "metadata": {},
     "output_type": "execute_result"
    }
   ],
   "source": [
    "handpicked_predictors_outliers_removed.head()\n",
    "# correct"
   ]
  },
  {
   "cell_type": "code",
   "execution_count": 7,
   "metadata": {},
   "outputs": [
    {
     "data": {
      "text/plain": [
       "354"
      ]
     },
     "execution_count": 7,
     "metadata": {},
     "output_type": "execute_result"
    }
   ],
   "source": [
    "# counting benign\n",
    "handpicked_predictors_outliers_removed.loc[handpicked_predictors_outliers_removed.one_hot_diagnosis == 0, \"one_hot_diagnosis\"].count()\n",
    "\n",
    "# 354 benign "
   ]
  },
  {
   "cell_type": "code",
   "execution_count": 8,
   "metadata": {},
   "outputs": [
    {
     "data": {
      "text/plain": [
       "170"
      ]
     },
     "execution_count": 8,
     "metadata": {},
     "output_type": "execute_result"
    }
   ],
   "source": [
    "# counting malignant\n",
    "handpicked_predictors_outliers_removed.loc[handpicked_predictors_outliers_removed.one_hot_diagnosis == 1, \"one_hot_diagnosis\"].count()\n",
    "\n",
    "# 170 malignant"
   ]
  },
  {
   "cell_type": "markdown",
   "metadata": {},
   "source": [
    "### Model 2: logistic regression on handpicked features excluding outliers\n",
    "\n",
    "Let's see if removing the outliers has an effect on model performance."
   ]
  },
  {
   "cell_type": "code",
   "execution_count": 9,
   "metadata": {},
   "outputs": [],
   "source": [
    "# splitting the target from predictors\n",
    "\n",
    "# creating x data containing features only\n",
    "x_data = handpicked_predictors_outliers_removed.drop(\"one_hot_diagnosis\", axis=1)\n",
    "# creating y data containing target only\n",
    "y_data = handpicked_predictors_outliers_removed[\"one_hot_diagnosis\"]"
   ]
  },
  {
   "cell_type": "code",
   "execution_count": 10,
   "metadata": {},
   "outputs": [
    {
     "data": {
      "text/html": [
       "<div>\n",
       "<style scoped>\n",
       "    .dataframe tbody tr th:only-of-type {\n",
       "        vertical-align: middle;\n",
       "    }\n",
       "\n",
       "    .dataframe tbody tr th {\n",
       "        vertical-align: top;\n",
       "    }\n",
       "\n",
       "    .dataframe thead th {\n",
       "        text-align: right;\n",
       "    }\n",
       "</style>\n",
       "<table border=\"1\" class=\"dataframe\">\n",
       "  <thead>\n",
       "    <tr style=\"text-align: right;\">\n",
       "      <th></th>\n",
       "      <th>concave points_worst</th>\n",
       "      <th>concave points_mean</th>\n",
       "      <th>radius_worst</th>\n",
       "      <th>perimeter_worst</th>\n",
       "      <th>area_worst</th>\n",
       "      <th>perimeter_mean</th>\n",
       "      <th>area_mean</th>\n",
       "      <th>radius_mean</th>\n",
       "      <th>concavity_mean</th>\n",
       "    </tr>\n",
       "  </thead>\n",
       "  <tbody>\n",
       "    <tr>\n",
       "      <td>0</td>\n",
       "      <td>0.2430</td>\n",
       "      <td>0.12790</td>\n",
       "      <td>23.57</td>\n",
       "      <td>152.50</td>\n",
       "      <td>1709.0</td>\n",
       "      <td>130.00</td>\n",
       "      <td>1203.0</td>\n",
       "      <td>19.69</td>\n",
       "      <td>0.1974</td>\n",
       "    </tr>\n",
       "    <tr>\n",
       "      <td>1</td>\n",
       "      <td>0.2575</td>\n",
       "      <td>0.10520</td>\n",
       "      <td>14.91</td>\n",
       "      <td>98.87</td>\n",
       "      <td>567.7</td>\n",
       "      <td>77.58</td>\n",
       "      <td>386.1</td>\n",
       "      <td>11.42</td>\n",
       "      <td>0.2414</td>\n",
       "    </tr>\n",
       "    <tr>\n",
       "      <td>2</td>\n",
       "      <td>0.1625</td>\n",
       "      <td>0.10430</td>\n",
       "      <td>22.54</td>\n",
       "      <td>152.20</td>\n",
       "      <td>1575.0</td>\n",
       "      <td>135.10</td>\n",
       "      <td>1297.0</td>\n",
       "      <td>20.29</td>\n",
       "      <td>0.1980</td>\n",
       "    </tr>\n",
       "    <tr>\n",
       "      <td>3</td>\n",
       "      <td>0.1741</td>\n",
       "      <td>0.08089</td>\n",
       "      <td>15.47</td>\n",
       "      <td>103.40</td>\n",
       "      <td>741.6</td>\n",
       "      <td>82.57</td>\n",
       "      <td>477.1</td>\n",
       "      <td>12.45</td>\n",
       "      <td>0.1578</td>\n",
       "    </tr>\n",
       "    <tr>\n",
       "      <td>4</td>\n",
       "      <td>0.1932</td>\n",
       "      <td>0.07400</td>\n",
       "      <td>22.88</td>\n",
       "      <td>153.20</td>\n",
       "      <td>1606.0</td>\n",
       "      <td>119.60</td>\n",
       "      <td>1040.0</td>\n",
       "      <td>18.25</td>\n",
       "      <td>0.1127</td>\n",
       "    </tr>\n",
       "  </tbody>\n",
       "</table>\n",
       "</div>"
      ],
      "text/plain": [
       "   concave points_worst  concave points_mean  radius_worst  perimeter_worst  \\\n",
       "0                0.2430              0.12790         23.57           152.50   \n",
       "1                0.2575              0.10520         14.91            98.87   \n",
       "2                0.1625              0.10430         22.54           152.20   \n",
       "3                0.1741              0.08089         15.47           103.40   \n",
       "4                0.1932              0.07400         22.88           153.20   \n",
       "\n",
       "   area_worst  perimeter_mean  area_mean  radius_mean  concavity_mean  \n",
       "0      1709.0          130.00     1203.0        19.69          0.1974  \n",
       "1       567.7           77.58      386.1        11.42          0.2414  \n",
       "2      1575.0          135.10     1297.0        20.29          0.1980  \n",
       "3       741.6           82.57      477.1        12.45          0.1578  \n",
       "4      1606.0          119.60     1040.0        18.25          0.1127  "
      ]
     },
     "execution_count": 10,
     "metadata": {},
     "output_type": "execute_result"
    }
   ],
   "source": [
    "x_data.head()"
   ]
  },
  {
   "cell_type": "code",
   "execution_count": 11,
   "metadata": {},
   "outputs": [
    {
     "data": {
      "text/plain": [
       "0    1\n",
       "1    1\n",
       "2    1\n",
       "3    1\n",
       "4    1\n",
       "Name: one_hot_diagnosis, dtype: int64"
      ]
     },
     "execution_count": 11,
     "metadata": {},
     "output_type": "execute_result"
    }
   ],
   "source": [
    "y_data.head()"
   ]
  },
  {
   "cell_type": "code",
   "execution_count": 12,
   "metadata": {},
   "outputs": [],
   "source": [
    "# importing split function\n",
    "from sklearn.model_selection import train_test_split"
   ]
  },
  {
   "cell_type": "code",
   "execution_count": 13,
   "metadata": {},
   "outputs": [],
   "source": [
    "# splitting the data using stratified split\n",
    "x_train, x_test, y_train, y_test = train_test_split(x_data, y_data, train_size=0.8, test_size=0.2, random_state=0, stratify=y_data)"
   ]
  },
  {
   "cell_type": "code",
   "execution_count": 14,
   "metadata": {},
   "outputs": [
    {
     "data": {
      "text/plain": [
       "419"
      ]
     },
     "execution_count": 14,
     "metadata": {},
     "output_type": "execute_result"
    }
   ],
   "source": [
    "# checking length of train set\n",
    "# should be around 419 as this is 80% of 524\n",
    "len(x_train)\n",
    "\n",
    "# correct"
   ]
  },
  {
   "cell_type": "code",
   "execution_count": 15,
   "metadata": {},
   "outputs": [
    {
     "data": {
      "text/plain": [
       "105"
      ]
     },
     "execution_count": 15,
     "metadata": {},
     "output_type": "execute_result"
    }
   ],
   "source": [
    "# checking length of train set\n",
    "# should be around 105 as this is 20% of 524\n",
    "len(x_test)\n",
    "\n",
    "# correct"
   ]
  },
  {
   "cell_type": "code",
   "execution_count": 16,
   "metadata": {},
   "outputs": [
    {
     "data": {
      "text/plain": [
       "419"
      ]
     },
     "execution_count": 16,
     "metadata": {},
     "output_type": "execute_result"
    }
   ],
   "source": [
    "# checking length of train set\n",
    "# should be around 419 as this is 80% of 524\n",
    "len(y_train)\n",
    "\n",
    "# correct"
   ]
  },
  {
   "cell_type": "code",
   "execution_count": 17,
   "metadata": {},
   "outputs": [
    {
     "data": {
      "text/plain": [
       "105"
      ]
     },
     "execution_count": 17,
     "metadata": {},
     "output_type": "execute_result"
    }
   ],
   "source": [
    "# checking length of train set\n",
    "# should be around 105 as this is 20% of 524\n",
    "len(y_test)\n",
    "\n",
    "# correct"
   ]
  },
  {
   "cell_type": "markdown",
   "metadata": {},
   "source": [
    "#### Now to scale the data"
   ]
  },
  {
   "cell_type": "code",
   "execution_count": 18,
   "metadata": {},
   "outputs": [],
   "source": [
    "# importing function\n",
    "from sklearn.preprocessing import StandardScaler\n",
    "scaler = StandardScaler()"
   ]
  },
  {
   "cell_type": "code",
   "execution_count": 19,
   "metadata": {},
   "outputs": [
    {
     "data": {
      "text/plain": [
       "StandardScaler(copy=True, with_mean=True, with_std=True)"
      ]
     },
     "execution_count": 19,
     "metadata": {},
     "output_type": "execute_result"
    }
   ],
   "source": [
    "# fit on training set only\n",
    "# fit on x_train only as it contains the features\n",
    "scaler.fit(x_train)"
   ]
  },
  {
   "cell_type": "code",
   "execution_count": 20,
   "metadata": {},
   "outputs": [],
   "source": [
    "# apply transform to both the training and test\n",
    "x_train = scaler.transform(x_train)\n",
    "x_test = scaler.transform(x_test)"
   ]
  },
  {
   "cell_type": "code",
   "execution_count": 21,
   "metadata": {},
   "outputs": [
    {
     "name": "stdout",
     "output_type": "stream",
     "text": [
      "[[ 1.97805584e+00  1.22879100e+00 -1.10184546e-01 ... -5.30192092e-02\n",
      "   6.18020065e-02  2.21822552e+00]\n",
      " [ 5.14708423e-01 -4.59984229e-01 -2.21359616e-03 ... -1.89815188e-01\n",
      "  -1.09283680e-01  4.08570878e-01]\n",
      " [ 1.67356861e-01 -2.75559045e-01 -3.70894888e-01 ... -3.37044758e-01\n",
      "  -2.41962376e-01 -6.11180846e-01]\n",
      " ...\n",
      " [-5.66380322e-01 -3.69885859e-01 -2.49756749e-01 ... -2.78307502e-01\n",
      "  -1.65148394e-01 -4.86868255e-01]\n",
      " [ 1.88176036e+00  2.73314104e+00  2.30204448e+00 ...  2.48079783e+00\n",
      "   2.32083138e+00  1.42994125e+00]\n",
      " [ 1.50161240e-01  2.14940385e-01 -1.41900313e+00 ... -1.34292027e+00\n",
      "  -1.57503411e+00  1.97057153e+00]]\n"
     ]
    }
   ],
   "source": [
    "# checking transformation worked\n",
    "print(x_train)\n",
    "\n",
    "# looks like it did"
   ]
  },
  {
   "cell_type": "markdown",
   "metadata": {},
   "source": [
    "#### Now for logistic regression"
   ]
  },
  {
   "cell_type": "code",
   "execution_count": 22,
   "metadata": {},
   "outputs": [],
   "source": [
    "# import the model we want to use\n",
    "from sklearn.linear_model import LogisticRegression"
   ]
  },
  {
   "cell_type": "code",
   "execution_count": 23,
   "metadata": {},
   "outputs": [],
   "source": [
    "# setting the solver cos Jupyter didn't like it\n",
    "logisticRegr = LogisticRegression(solver = 'lbfgs')"
   ]
  },
  {
   "cell_type": "code",
   "execution_count": 24,
   "metadata": {},
   "outputs": [
    {
     "data": {
      "text/plain": [
       "LogisticRegression(C=1.0, class_weight=None, dual=False, fit_intercept=True,\n",
       "                   intercept_scaling=1, l1_ratio=None, max_iter=100,\n",
       "                   multi_class='warn', n_jobs=None, penalty='l2',\n",
       "                   random_state=None, solver='lbfgs', tol=0.0001, verbose=0,\n",
       "                   warm_start=False)"
      ]
     },
     "execution_count": 24,
     "metadata": {},
     "output_type": "execute_result"
    }
   ],
   "source": [
    "# training the model on the data - model is learning the relationship between features and classes\n",
    "logisticRegr.fit(x_train, y_train)"
   ]
  },
  {
   "cell_type": "code",
   "execution_count": 25,
   "metadata": {},
   "outputs": [],
   "source": [
    "# now to apply it to the test data\n",
    "# model will predict the class based on what it has learned in the training\n",
    "predictions = logisticRegr.predict(x_test)"
   ]
  },
  {
   "cell_type": "code",
   "execution_count": 26,
   "metadata": {
    "scrolled": true
   },
   "outputs": [
    {
     "name": "stdout",
     "output_type": "stream",
     "text": [
      "[1 0 1 1 0 1 0 0 0 0 0 0 0 0 1 0 1 0 0 0 1 0 0 0 0 1 1 0 0 0 0 0 0 0 0 0 0\n",
      " 0 1 0 0 0 0 1 0 0 1 1 0 1 0 0 0 0 0 1 0 0 0 0 0 0 0 0 0 1 1 1 1 1 0 1 1 0\n",
      " 0 0 0 0 0 1 1 1 0 0 0 1 0 1 0 0 0 0 1 0 1 0 0 0 0 1 1 0 0 0 1]\n"
     ]
    }
   ],
   "source": [
    "print(predictions)\n",
    "# can see it has predicted classes for the test data"
   ]
  },
  {
   "cell_type": "markdown",
   "metadata": {},
   "source": [
    "#### Assessing model performance\n",
    "\n",
    "For our target variable of diagnosis, benign is the negative class (0) and malignant is the positive class (1).\n",
    "\n",
    "Of the metrics used to assess model performance (accuracy, precision, recall), **recall seems the most appropriate for this data**.\n",
    "\n",
    "* Accuracy: the proportion of predictions a model gets right (TP + TN / TP + TN + FP + FN)\n",
    "\n",
    "* Precision: the proportion of positive predictions a model gets right (TP / TP + FP)\n",
    "\n",
    "* Recall: the proportion of actual positives that were identified correctly (TP / TP + FN)\n",
    "\n",
    "**As we are predicting disease, we want to minimise false negatives. A false negative would be a tumour being classified as benign when in fact it is malignant, and therefore the breast cancer would go undiagnosed. To minimise false negatives, we want to increase recall.**\n",
    "\n",
    "Plus the fact that, in this dataset with outliers removed, we have 354:170 class distribution (benign:malignant). This is more imbalanced than when outliers were left in (42 malignant records have been removed, compared to only 3 benign records), so accuracy would be misleading."
   ]
  },
  {
   "cell_type": "code",
   "execution_count": 27,
   "metadata": {
    "scrolled": true
   },
   "outputs": [
    {
     "name": "stdout",
     "output_type": "stream",
     "text": [
      "              precision    recall  f1-score   support\n",
      "\n",
      "           0       0.95      0.97      0.96        71\n",
      "           1       0.94      0.88      0.91        34\n",
      "\n",
      "    accuracy                           0.94       105\n",
      "   macro avg       0.94      0.93      0.93       105\n",
      "weighted avg       0.94      0.94      0.94       105\n",
      "\n"
     ]
    }
   ],
   "source": [
    "# getting classification report\n",
    "from sklearn.metrics import classification_report\n",
    "print(classification_report(y_test,predictions))"
   ]
  },
  {
   "cell_type": "code",
   "execution_count": 28,
   "metadata": {},
   "outputs": [
    {
     "data": {
      "text/plain": [
       "array([[69,  2],\n",
       "       [ 4, 30]], dtype=int64)"
      ]
     },
     "execution_count": 28,
     "metadata": {},
     "output_type": "execute_result"
    }
   ],
   "source": [
    "# creating a confusion matrix\n",
    "from sklearn import metrics\n",
    "cnf_matrix = metrics.confusion_matrix(y_test, predictions)\n",
    "cnf_matrix"
   ]
  },
  {
   "cell_type": "code",
   "execution_count": 29,
   "metadata": {},
   "outputs": [
    {
     "data": {
      "text/plain": [
       "Text(0.5, 15.0, 'Predicted class')"
      ]
     },
     "execution_count": 29,
     "metadata": {},
     "output_type": "execute_result"
    },
    {
     "data": {
      "image/png": "[encoded data removed]",
      "text/plain": [
       "<Figure size 432x288 with 2 Axes>"
      ]
     },
     "metadata": {
      "needs_background": "light"
     },
     "output_type": "display_data"
    }
   ],
   "source": [
    "# making confusion matrix a heatmap\n",
    "\n",
    "class_names=[0,1] \n",
    "fig, ax = plt.subplots()\n",
    "tick_marks = np.arange(len(class_names))\n",
    "plt.xticks(tick_marks, class_names)\n",
    "plt.yticks(tick_marks, class_names)\n",
    "sns.heatmap(pd.DataFrame(cnf_matrix), annot=True, cmap=\"BuPu\" ,fmt='g')\n",
    "ax.xaxis.set_label_position(\"bottom\")\n",
    "plt.tight_layout()\n",
    "plt.title('Confusion matrix', y=1.1)\n",
    "plt.ylabel('Actual class')\n",
    "plt.xlabel('Predicted class')"
   ]
  },
  {
   "cell_type": "markdown",
   "metadata": {},
   "source": [
    "Predicted label 0 / actual label 0 = true negative  \n",
    "Predicted label 0 / actual label 1 = false negative  \n",
    "Predicted label 1 / actual label 1 = true positive  \n",
    "Predicted label 1 / actual label 0 = false positive  \n",
    "\n",
    "So this matrix is saying there are:\n",
    "* 69 true negatives\n",
    "* 4 false negatives\n",
    "* 2 false positives\n",
    "* 30 true positives\n",
    "\n",
    "Pretty good but slightly worse than the model with outliers left in."
   ]
  },
  {
   "cell_type": "code",
   "execution_count": 30,
   "metadata": {},
   "outputs": [
    {
     "name": "stdout",
     "output_type": "stream",
     "text": [
      "Accuracy: 0.9428571428571428\n",
      "Precision: 0.9375\n",
      "Recall: 0.8823529411764706\n"
     ]
    }
   ],
   "source": [
    "# try looking at the metrics for class 1 separately\n",
    "# should be the same as classification report above, just makes it easier to read\n",
    "print(\"Accuracy:\",metrics.accuracy_score(y_test, predictions))\n",
    "print(\"Precision:\",metrics.precision_score(y_test, predictions))\n",
    "print(\"Recall:\",metrics.recall_score(y_test, predictions))"
   ]
  },
  {
   "cell_type": "code",
   "execution_count": 31,
   "metadata": {},
   "outputs": [
    {
     "data": {
      "image/png": "[encoded data removed]",
      "text/plain": [
       "<Figure size 432x288 with 1 Axes>"
      ]
     },
     "metadata": {
      "needs_background": "light"
     },
     "output_type": "display_data"
    }
   ],
   "source": [
    "# attempting to plot an ROC curve\n",
    "\n",
    "# first need to predict probability\n",
    "# y_pred_proba is the predicted probability for a class in y_test dataset\n",
    "# .predict_proba only gives the output of 1 in a binary classification (which is malignant, which is what we want)\n",
    "# [:,1] also only gives the output for class 1\n",
    "y_pred_proba = logisticRegr.predict_proba(x_test)[:,1]\n",
    "\n",
    "# then this is plotting the ROC curve using y_test data (classes) and the predicted probability of getting class 1\n",
    "# fpr is false positive rate on the x axis\n",
    "# tpr is true positive rate on the y axis\n",
    "fpr, tpr, _ = metrics.roc_curve(y_test,  y_pred_proba)\n",
    "\n",
    "# calculating the AUC curve\n",
    "auc = metrics.roc_auc_score(y_test, y_pred_proba)\n",
    "\n",
    "# plotting it on a graph\n",
    "\n",
    "# plots x and y axes\n",
    "plt.plot(fpr,tpr)\n",
    "# plots legend as auc score\n",
    "plt.legend([\"AUC %.3f\"%auc])\n",
    "# plots labels / title\n",
    "plt.xlabel(\"False positive rate (FPR)\")\n",
    "plt.ylabel(\"True ppositive rate (TPR)\")\n",
    "plt.title(\"ROC Curve\")\n",
    "# adds a grid\n",
    "plt.grid()\n",
    "# adds the line for an AUC of 0.5, i.e. a useless classfier\n",
    "plt.plot([0, 1], [0, 1], 'k--')\n",
    "# shows plot\n",
    "plt.show()"
   ]
  },
  {
   "cell_type": "markdown",
   "metadata": {},
   "source": [
    "So to summarise\n",
    "\n",
    "* The recall is lower for this model (0.88) than Model 1\n",
    "* The F1 score is also pretty high for malignant (0.91), indicating there is a good balance of precision and recall (even though we are most interested in recall)\n",
    "* The AUC score is 0.958, which is lower than Model 1, but a perfect classifer is 1 so still pretty good\n",
    "\n",
    "## Go to my other notebook!\n",
    "\n",
    "#### Amber_model3_PCA_with_outliers to see how feature selection through PCA affects model performance."
   ]
  }
 ],
 "metadata": {
  "kernelspec": {
   "display_name": "Python 3",
   "language": "python",
   "name": "python3"
  },
  "language_info": {
   "codemirror_mode": {
    "name": "ipython",
    "version": 3
   },
   "file_extension": ".py",
   "mimetype": "text/x-python",
   "name": "python",
   "nbconvert_exporter": "python",
   "pygments_lexer": "ipython3",
   "version": "3.7.4"
  }
 },
 "nbformat": 4,
 "nbformat_minor": 2
}
